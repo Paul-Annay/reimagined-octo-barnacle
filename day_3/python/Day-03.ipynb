{
 "cells": [
  {
   "cell_type": "markdown",
   "id": "225966b9",
   "metadata": {},
   "source": [
    "## Dunder Methods"
   ]
  },
  {
   "cell_type": "code",
   "execution_count": 84,
   "id": "30c4d532",
   "metadata": {},
   "outputs": [
    {
     "data": {
      "text/plain": [
       "3"
      ]
     },
     "execution_count": 84,
     "metadata": {},
     "output_type": "execute_result"
    }
   ],
   "source": [
    "len([1, 2, 3])"
   ]
  },
  {
   "cell_type": "code",
   "execution_count": 85,
   "id": "84f8ce1e",
   "metadata": {},
   "outputs": [
    {
     "data": {
      "text/plain": [
       "3"
      ]
     },
     "execution_count": 85,
     "metadata": {},
     "output_type": "execute_result"
    }
   ],
   "source": [
    "[1, 2, 3].__len__()"
   ]
  },
  {
   "cell_type": "code",
   "execution_count": 86,
   "id": "5cfce37b",
   "metadata": {},
   "outputs": [
    {
     "name": "stdout",
     "output_type": "stream",
     "text": [
      "['__abs__', '__add__', '__and__', '__bool__', '__ceil__', '__class__', '__delattr__', '__dir__', '__divmod__', '__doc__', '__eq__', '__float__', '__floor__', '__floordiv__', '__format__', '__ge__', '__getattribute__', '__getnewargs__', '__gt__', '__hash__', '__index__', '__init__', '__init_subclass__', '__int__', '__invert__', '__le__', '__lshift__', '__lt__', '__mod__', '__mul__', '__ne__', '__neg__', '__new__', '__or__', '__pos__', '__pow__', '__radd__', '__rand__', '__rdivmod__', '__reduce__', '__reduce_ex__', '__repr__', '__rfloordiv__', '__rlshift__', '__rmod__', '__rmul__', '__ror__', '__round__', '__rpow__', '__rrshift__', '__rshift__', '__rsub__', '__rtruediv__', '__rxor__', '__setattr__', '__sizeof__', '__str__', '__sub__', '__subclasshook__', '__truediv__', '__trunc__', '__xor__', 'as_integer_ratio', 'bit_length', 'conjugate', 'denominator', 'from_bytes', 'imag', 'numerator', 'real', 'to_bytes']\n"
     ]
    }
   ],
   "source": [
    "print(dir(3))"
   ]
  },
  {
   "cell_type": "code",
   "execution_count": 87,
   "id": "fc8245e8",
   "metadata": {},
   "outputs": [
    {
     "ename": "SyntaxError",
     "evalue": "invalid syntax (3945408958.py, line 1)",
     "output_type": "error",
     "traceback": [
      "\u001b[1;36m  Input \u001b[1;32mIn [87]\u001b[1;36m\u001b[0m\n\u001b[1;33m    3.__dir__()\u001b[0m\n\u001b[1;37m      ^\u001b[0m\n\u001b[1;31mSyntaxError\u001b[0m\u001b[1;31m:\u001b[0m invalid syntax\n"
     ]
    }
   ],
   "source": [
    "3.__dir__()"
   ]
  },
  {
   "cell_type": "code",
   "execution_count": 88,
   "id": "504e8cce",
   "metadata": {},
   "outputs": [
    {
     "name": "stdout",
     "output_type": "stream",
     "text": [
      "['__repr__', '__hash__', '__getattribute__', '__lt__', '__le__', '__eq__', '__ne__', '__gt__', '__ge__', '__add__', '__radd__', '__sub__', '__rsub__', '__mul__', '__rmul__', '__mod__', '__rmod__', '__divmod__', '__rdivmod__', '__pow__', '__rpow__', '__neg__', '__pos__', '__abs__', '__bool__', '__invert__', '__lshift__', '__rlshift__', '__rshift__', '__rrshift__', '__and__', '__rand__', '__xor__', '__rxor__', '__or__', '__ror__', '__int__', '__float__', '__floordiv__', '__rfloordiv__', '__truediv__', '__rtruediv__', '__index__', '__new__', 'conjugate', 'bit_length', 'to_bytes', 'from_bytes', 'as_integer_ratio', '__trunc__', '__floor__', '__ceil__', '__round__', '__getnewargs__', '__format__', '__sizeof__', 'real', 'imag', 'numerator', 'denominator', '__doc__', '__str__', '__setattr__', '__delattr__', '__init__', '__reduce_ex__', '__reduce__', '__subclasshook__', '__init_subclass__', '__dir__', '__class__']\n"
     ]
    }
   ],
   "source": [
    "print(int.__dir__(3))"
   ]
  },
  {
   "cell_type": "code",
   "execution_count": 89,
   "id": "9313a79f",
   "metadata": {},
   "outputs": [
    {
     "data": {
      "text/plain": [
       "True"
      ]
     },
     "execution_count": 89,
     "metadata": {},
     "output_type": "execute_result"
    }
   ],
   "source": [
    "sorted(int.__dir__(3)) == dir(int)"
   ]
  },
  {
   "cell_type": "markdown",
   "id": "9f1ec818",
   "metadata": {},
   "source": [
    "## isinstance() & hasattr()"
   ]
  },
  {
   "cell_type": "code",
   "execution_count": 90,
   "id": "ce165fb5",
   "metadata": {},
   "outputs": [],
   "source": [
    "my_string = \"My patience is waning\"\n",
    "my_list = [\"Demons\", \"Wrecked\", \"Believer\", \"Bad Lier\", \"Radioactive\"]\n",
    "my_tuple = (\"dan\", \"wayne\", \"daniel\", \"ben\")\n",
    "number = 14\n",
    "floating = 3.1416"
   ]
  },
  {
   "cell_type": "code",
   "execution_count": 91,
   "id": "025d13cd",
   "metadata": {},
   "outputs": [
    {
     "name": "stdout",
     "output_type": "stream",
     "text": [
      "True\n",
      "True\n",
      "True\n",
      "True\n",
      "True\n",
      "True\n"
     ]
    }
   ],
   "source": [
    "print(isinstance(my_string, str))\n",
    "print(isinstance(my_list, list))\n",
    "print(isinstance(my_tuple, tuple))\n",
    "print(isinstance(number, int))\n",
    "print(isinstance(floating, float))\n",
    "print(isinstance(True,bool))"
   ]
  },
  {
   "cell_type": "code",
   "execution_count": 92,
   "id": "ffd2d882",
   "metadata": {},
   "outputs": [
    {
     "name": "stdout",
     "output_type": "stream",
     "text": [
      "False\n",
      "False\n",
      "False\n",
      "False\n",
      "False\n",
      "False\n"
     ]
    }
   ],
   "source": [
    "print(isinstance(my_string, tuple))\n",
    "print(isinstance(my_list, int))\n",
    "print(isinstance(my_tuple, bool))\n",
    "print(isinstance(number, str))\n",
    "print(isinstance(floating, list))\n",
    "print(isinstance(True,float))"
   ]
  },
  {
   "cell_type": "code",
   "execution_count": 93,
   "id": "bd088ed6",
   "metadata": {},
   "outputs": [
    {
     "name": "stdout",
     "output_type": "stream",
     "text": [
      "True\n",
      "True\n",
      "True\n",
      "True\n",
      "True\n",
      "True\n",
      "True\n"
     ]
    }
   ],
   "source": [
    "print(hasattr(my_list, \"index\"))\n",
    "print(hasattr(my_list, \"count\"))\n",
    "print(hasattr(my_list, \"pop\"))\n",
    "print(hasattr(my_list, \"append\"))\n",
    "print(hasattr(my_list, \"sort\"))\n",
    "print(hasattr(my_list, \"copy\"))\n",
    "print(hasattr(my_list, \"reverse\"))"
   ]
  },
  {
   "cell_type": "code",
   "execution_count": 94,
   "id": "647dfe0a",
   "metadata": {},
   "outputs": [
    {
     "name": "stdout",
     "output_type": "stream",
     "text": [
      "False\n",
      "False\n",
      "False\n"
     ]
    }
   ],
   "source": [
    "print(hasattr(my_list, \"upper\"))\n",
    "print(hasattr(my_list, \"find\"))\n",
    "print(hasattr(my_list, \"zfill\"))"
   ]
  },
  {
   "cell_type": "code",
   "execution_count": 95,
   "id": "37f1bd4b",
   "metadata": {},
   "outputs": [
    {
     "name": "stdout",
     "output_type": "stream",
     "text": [
      "['__add__', '__class__', '__class_getitem__', '__contains__', '__delattr__', '__delitem__', '__dir__', '__doc__', '__eq__', '__format__', '__ge__', '__getattribute__', '__getitem__', '__gt__', '__hash__', '__iadd__', '__imul__', '__init__', '__init_subclass__', '__iter__', '__le__', '__len__', '__lt__', '__mul__', '__ne__', '__new__', '__reduce__', '__reduce_ex__', '__repr__', '__reversed__', '__rmul__', '__setattr__', '__setitem__', '__sizeof__', '__str__', '__subclasshook__', 'append', 'clear', 'copy', 'count', 'extend', 'index', 'insert', 'pop', 'remove', 'reverse', 'sort']\n"
     ]
    }
   ],
   "source": [
    "print(dir(my_list))"
   ]
  },
  {
   "cell_type": "markdown",
   "id": "b6a64ed0",
   "metadata": {},
   "source": [
    "## Iterator & Iterable"
   ]
  },
  {
   "cell_type": "code",
   "execution_count": 96,
   "id": "65494bb5",
   "metadata": {},
   "outputs": [
    {
     "name": "stdout",
     "output_type": "stream",
     "text": [
      "True\n",
      "False\n"
     ]
    }
   ],
   "source": [
    "print(\"__iter__\" in dir(my_list))\n",
    "print(\"__next__\" in dir(my_list))"
   ]
  },
  {
   "cell_type": "code",
   "execution_count": 97,
   "id": "95c541ff",
   "metadata": {},
   "outputs": [
    {
     "name": "stdout",
     "output_type": "stream",
     "text": [
      "True\n",
      "False\n"
     ]
    }
   ],
   "source": [
    "print(hasattr(my_list, \"__iter__\"))\n",
    "print(hasattr(my_list, \"__false__\"))"
   ]
  },
  {
   "cell_type": "code",
   "execution_count": 98,
   "id": "cf38ce2b",
   "metadata": {},
   "outputs": [
    {
     "name": "stdout",
     "output_type": "stream",
     "text": [
      "True\n",
      "False\n"
     ]
    }
   ],
   "source": [
    "from collections import Iterable, Iterator\n",
    "print(isinstance(my_list, Iterable))\n",
    "print(isinstance(my_list, Iterator))"
   ]
  },
  {
   "cell_type": "markdown",
   "id": "5466b24e",
   "metadata": {},
   "source": [
    "## iter() & next()"
   ]
  },
  {
   "cell_type": "code",
   "execution_count": 100,
   "id": "926c45cc",
   "metadata": {},
   "outputs": [
    {
     "name": "stdout",
     "output_type": "stream",
     "text": [
      "True\n"
     ]
    }
   ],
   "source": [
    "my_list_itr = iter(my_list)\n",
    "print(isinstance(my_list_itr, Iterator))"
   ]
  },
  {
   "cell_type": "code",
   "execution_count": 101,
   "id": "d0653154",
   "metadata": {},
   "outputs": [
    {
     "name": "stdout",
     "output_type": "stream",
     "text": [
      "<str_iterator object at 0x000001FE31150550>\n",
      "<tuple_iterator object at 0x000001FE323798E0>\n",
      "<list_iterator object at 0x000001FE31150550>\n"
     ]
    }
   ],
   "source": [
    "# iter() converts iterable to iterator\n",
    "print(iter(\"Iterable\"))\n",
    "print(iter((4, 0, 1)))\n",
    "print(iter([-10, 0.44, 1.221]))"
   ]
  },
  {
   "cell_type": "code",
   "execution_count": 102,
   "id": "69226955",
   "metadata": {
    "scrolled": true
   },
   "outputs": [
    {
     "ename": "TypeError",
     "evalue": "'int' object is not iterable",
     "output_type": "error",
     "traceback": [
      "\u001b[1;31m---------------------------------------------------------------------------\u001b[0m",
      "\u001b[1;31mTypeError\u001b[0m                                 Traceback (most recent call last)",
      "Input \u001b[1;32mIn [102]\u001b[0m, in \u001b[0;36m<cell line: 2>\u001b[1;34m()\u001b[0m\n\u001b[0;32m      1\u001b[0m \u001b[38;5;66;03m# iter() cannot convert non-iterables\u001b[39;00m\n\u001b[1;32m----> 2\u001b[0m \u001b[38;5;28;43miter\u001b[39;49m\u001b[43m(\u001b[49m\u001b[38;5;241;43m22\u001b[39;49m\u001b[43m)\u001b[49m\n",
      "\u001b[1;31mTypeError\u001b[0m: 'int' object is not iterable"
     ]
    }
   ],
   "source": [
    "# iter() cannot convert non-iterables\n",
    "iter(22)"
   ]
  },
  {
   "cell_type": "code",
   "execution_count": 103,
   "id": "f81816fe",
   "metadata": {},
   "outputs": [
    {
     "name": "stdout",
     "output_type": "stream",
     "text": [
      "<class 'list_iterator'>\n"
     ]
    }
   ],
   "source": [
    "list_iterator = iter(my_list)\n",
    "print(type(list_iterator))"
   ]
  },
  {
   "cell_type": "code",
   "execution_count": 104,
   "id": "11bd90f2",
   "metadata": {},
   "outputs": [
    {
     "name": "stdout",
     "output_type": "stream",
     "text": [
      "Demons\n",
      "Wrecked\n",
      "Believer\n",
      "Bad Lier\n",
      "Radioactive\n"
     ]
    },
    {
     "ename": "StopIteration",
     "evalue": "",
     "output_type": "error",
     "traceback": [
      "\u001b[1;31m---------------------------------------------------------------------------\u001b[0m",
      "\u001b[1;31mStopIteration\u001b[0m                             Traceback (most recent call last)",
      "Input \u001b[1;32mIn [104]\u001b[0m, in \u001b[0;36m<cell line: 6>\u001b[1;34m()\u001b[0m\n\u001b[0;32m      4\u001b[0m \u001b[38;5;28mprint\u001b[39m(\u001b[38;5;28mnext\u001b[39m(list_iterator))\n\u001b[0;32m      5\u001b[0m \u001b[38;5;28mprint\u001b[39m(\u001b[38;5;28mnext\u001b[39m(list_iterator))\n\u001b[1;32m----> 6\u001b[0m \u001b[38;5;28mprint\u001b[39m(\u001b[38;5;28;43mnext\u001b[39;49m\u001b[43m(\u001b[49m\u001b[43mlist_iterator\u001b[49m\u001b[43m)\u001b[49m)\n",
      "\u001b[1;31mStopIteration\u001b[0m: "
     ]
    }
   ],
   "source": [
    "print(next(list_iterator))\n",
    "print(next(list_iterator))\n",
    "print(next(list_iterator))\n",
    "print(next(list_iterator))\n",
    "print(next(list_iterator))\n",
    "print(next(list_iterator))"
   ]
  },
  {
   "cell_type": "markdown",
   "id": "d174b085",
   "metadata": {},
   "source": [
    "## for & while Loops"
   ]
  },
  {
   "cell_type": "code",
   "execution_count": 106,
   "id": "3c42d7b4",
   "metadata": {},
   "outputs": [
    {
     "name": "stdout",
     "output_type": "stream",
     "text": [
      "Demons\n",
      "Wrecked\n",
      "Believer\n",
      "Bad Lier\n",
      "Radioactive\n"
     ]
    }
   ],
   "source": [
    "for song in my_list:\n",
    "    print(song)"
   ]
  },
  {
   "cell_type": "code",
   "execution_count": 107,
   "id": "bc5370d5",
   "metadata": {},
   "outputs": [
    {
     "name": "stdout",
     "output_type": "stream",
     "text": [
      "M\n",
      "y\n",
      " \n",
      "p\n",
      "a\n",
      "t\n",
      "i\n",
      "e\n",
      "n\n",
      "c\n",
      "e\n",
      " \n",
      "i\n",
      "s\n",
      " \n",
      "w\n",
      "a\n",
      "n\n",
      "i\n",
      "n\n",
      "g\n"
     ]
    }
   ],
   "source": [
    "for letter in my_string:\n",
    "    print(letter)"
   ]
  },
  {
   "cell_type": "code",
   "execution_count": 108,
   "id": "35cd64f3",
   "metadata": {},
   "outputs": [
    {
     "name": "stdout",
     "output_type": "stream",
     "text": [
      "Demons\n",
      "Wrecked\n",
      "Believer\n",
      "Bad Lier\n",
      "Radioactive\n"
     ]
    }
   ],
   "source": [
    "index = 0\n",
    "while index < len(my_list):\n",
    "    print(my_list[index])\n",
    "    index += 1"
   ]
  },
  {
   "cell_type": "code",
   "execution_count": 109,
   "id": "ee1809ec",
   "metadata": {},
   "outputs": [
    {
     "name": "stdout",
     "output_type": "stream",
     "text": [
      "Demons\n",
      "Wrecked\n",
      "Believer\n",
      "Bad Lier\n",
      "Radioactive\n"
     ]
    }
   ],
   "source": [
    "# For loops internally use iterators\n",
    "# Below is an example of a while loop functioning like for loop\n",
    "\n",
    "li_iterator = iter(my_list)\n",
    "item = next(li_iterator)\n",
    "\n",
    "while item in my_list:\n",
    "    print(item)\n",
    "    try:\n",
    "        item = next(li_iterator)\n",
    "    except:\n",
    "        break"
   ]
  },
  {
   "cell_type": "markdown",
   "id": "1bc1896a",
   "metadata": {},
   "source": [
    "## Dictionary"
   ]
  },
  {
   "cell_type": "code",
   "execution_count": 110,
   "id": "97dfa0a3",
   "metadata": {},
   "outputs": [],
   "source": [
    "person = {\n",
    "    \"name\" : \"Annay\",\n",
    "    \"age\" : 25,\n",
    "    \"male\" : True,\n",
    "    \"height\" : 5.5,\n",
    "}"
   ]
  },
  {
   "cell_type": "markdown",
   "id": "ecab769f",
   "metadata": {},
   "source": [
    "### "
   ]
  },
  {
   "cell_type": "markdown",
   "id": "7733b6eb",
   "metadata": {},
   "source": [
    "print(person[\"name\"])\n",
    "print(person.get(\"name\"))"
   ]
  },
  {
   "cell_type": "code",
   "execution_count": 51,
   "id": "5458969e",
   "metadata": {},
   "outputs": [
    {
     "ename": "KeyError",
     "evalue": "'weight'",
     "output_type": "error",
     "traceback": [
      "\u001b[1;31m---------------------------------------------------------------------------\u001b[0m",
      "\u001b[1;31mKeyError\u001b[0m                                  Traceback (most recent call last)",
      "Input \u001b[1;32mIn [51]\u001b[0m, in \u001b[0;36m<cell line: 1>\u001b[1;34m()\u001b[0m\n\u001b[1;32m----> 1\u001b[0m \u001b[38;5;28mprint\u001b[39m(\u001b[43mperson\u001b[49m\u001b[43m[\u001b[49m\u001b[38;5;124;43m\"\u001b[39;49m\u001b[38;5;124;43mweight\u001b[39;49m\u001b[38;5;124;43m\"\u001b[39;49m\u001b[43m]\u001b[49m)\n",
      "\u001b[1;31mKeyError\u001b[0m: 'weight'"
     ]
    }
   ],
   "source": [
    "print(person[\"weight\"])"
   ]
  },
  {
   "cell_type": "code",
   "execution_count": 52,
   "id": "58156826",
   "metadata": {},
   "outputs": [
    {
     "name": "stdout",
     "output_type": "stream",
     "text": [
      "Annay\n"
     ]
    }
   ],
   "source": [
    "print(person.get(\"name\"))"
   ]
  },
  {
   "cell_type": "code",
   "execution_count": 54,
   "id": "35600dbb",
   "metadata": {},
   "outputs": [
    {
     "name": "stdout",
     "output_type": "stream",
     "text": [
      "70\n",
      "72\n",
      "None\n"
     ]
    }
   ],
   "source": [
    "print(person.get(\"weight\", 70))\n",
    "print(person.get(\"weight\", 72))\n",
    "print(person.get(\"weight\"))"
   ]
  },
  {
   "cell_type": "code",
   "execution_count": 55,
   "id": "318b9ad9",
   "metadata": {},
   "outputs": [
    {
     "ename": "SyntaxError",
     "evalue": "cannot assign to function call (462932249.py, line 1)",
     "output_type": "error",
     "traceback": [
      "\u001b[1;36m  Input \u001b[1;32mIn [55]\u001b[1;36m\u001b[0m\n\u001b[1;33m    person.get(\"weight\") = 72\u001b[0m\n\u001b[1;37m    ^\u001b[0m\n\u001b[1;31mSyntaxError\u001b[0m\u001b[1;31m:\u001b[0m cannot assign to function call\n"
     ]
    }
   ],
   "source": [
    "person.get(\"weight\") = 72"
   ]
  },
  {
   "cell_type": "code",
   "execution_count": 56,
   "id": "8dbb76fc",
   "metadata": {},
   "outputs": [],
   "source": [
    "person[\"weight\"] = 72"
   ]
  },
  {
   "cell_type": "code",
   "execution_count": 57,
   "id": "643476c4",
   "metadata": {},
   "outputs": [
    {
     "data": {
      "text/plain": [
       "{'name': 'Annay', 'age': 25, 'male': True, 'height': 5.5, 'weight': 72}"
      ]
     },
     "execution_count": 57,
     "metadata": {},
     "output_type": "execute_result"
    }
   ],
   "source": [
    "person"
   ]
  },
  {
   "cell_type": "code",
   "execution_count": 58,
   "id": "5fc41e09",
   "metadata": {},
   "outputs": [
    {
     "name": "stdout",
     "output_type": "stream",
     "text": [
      "name\n",
      "age\n",
      "male\n",
      "height\n",
      "weight\n"
     ]
    }
   ],
   "source": [
    "for key in person:\n",
    "    print(key)"
   ]
  },
  {
   "cell_type": "code",
   "execution_count": 59,
   "id": "d627a5fd",
   "metadata": {},
   "outputs": [],
   "source": [
    "person_copy = person.copy()"
   ]
  },
  {
   "cell_type": "code",
   "execution_count": 60,
   "id": "2a291445",
   "metadata": {},
   "outputs": [
    {
     "data": {
      "text/plain": [
       "{'name': 'Annay', 'age': 25, 'male': True, 'height': 5.5, 'weight': 72}"
      ]
     },
     "execution_count": 60,
     "metadata": {},
     "output_type": "execute_result"
    }
   ],
   "source": [
    "person_copy"
   ]
  },
  {
   "cell_type": "code",
   "execution_count": 61,
   "id": "05444e19",
   "metadata": {},
   "outputs": [
    {
     "data": {
      "text/plain": [
       "{'key1': None, 'key2': None}"
      ]
     },
     "execution_count": 61,
     "metadata": {},
     "output_type": "execute_result"
    }
   ],
   "source": [
    "person.fromkeys([\"key1\", \"key2\"])"
   ]
  },
  {
   "cell_type": "code",
   "execution_count": 62,
   "id": "f35bed46",
   "metadata": {},
   "outputs": [
    {
     "data": {
      "text/plain": [
       "{'key1': 0, 'key2': 0}"
      ]
     },
     "execution_count": 62,
     "metadata": {},
     "output_type": "execute_result"
    }
   ],
   "source": [
    "person.fromkeys([\"key1\", \"key2\"], 0)"
   ]
  },
  {
   "cell_type": "code",
   "execution_count": 63,
   "id": "4e5b69ee",
   "metadata": {},
   "outputs": [
    {
     "data": {
      "text/plain": [
       "dict_items([('name', 'Annay'), ('age', 25), ('male', True), ('height', 5.5), ('weight', 72)])"
      ]
     },
     "execution_count": 63,
     "metadata": {},
     "output_type": "execute_result"
    }
   ],
   "source": [
    "person.items()"
   ]
  },
  {
   "cell_type": "code",
   "execution_count": 64,
   "id": "83a88b37",
   "metadata": {},
   "outputs": [
    {
     "data": {
      "text/plain": [
       "dict_keys(['name', 'age', 'male', 'height', 'weight'])"
      ]
     },
     "execution_count": 64,
     "metadata": {},
     "output_type": "execute_result"
    }
   ],
   "source": [
    "person.keys()"
   ]
  },
  {
   "cell_type": "code",
   "execution_count": 65,
   "id": "64393ec5",
   "metadata": {},
   "outputs": [
    {
     "data": {
      "text/plain": [
       "dict_values(['Annay', 25, True, 5.5, 72])"
      ]
     },
     "execution_count": 65,
     "metadata": {},
     "output_type": "execute_result"
    }
   ],
   "source": [
    "person.values()"
   ]
  },
  {
   "cell_type": "code",
   "execution_count": 68,
   "id": "3da02858",
   "metadata": {},
   "outputs": [
    {
     "ename": "KeyError",
     "evalue": "'weight'",
     "output_type": "error",
     "traceback": [
      "\u001b[1;31m---------------------------------------------------------------------------\u001b[0m",
      "\u001b[1;31mKeyError\u001b[0m                                  Traceback (most recent call last)",
      "Input \u001b[1;32mIn [68]\u001b[0m, in \u001b[0;36m<cell line: 1>\u001b[1;34m()\u001b[0m\n\u001b[1;32m----> 1\u001b[0m \u001b[43mperson\u001b[49m\u001b[38;5;241;43m.\u001b[39;49m\u001b[43mpop\u001b[49m\u001b[43m(\u001b[49m\u001b[38;5;124;43m\"\u001b[39;49m\u001b[38;5;124;43mweight\u001b[39;49m\u001b[38;5;124;43m\"\u001b[39;49m\u001b[43m)\u001b[49m\n",
      "\u001b[1;31mKeyError\u001b[0m: 'weight'"
     ]
    }
   ],
   "source": [
    "person.pop(\"weight\")"
   ]
  },
  {
   "cell_type": "code",
   "execution_count": 71,
   "id": "06ad9a99",
   "metadata": {},
   "outputs": [
    {
     "data": {
      "text/plain": [
       "('male', True)"
      ]
     },
     "execution_count": 71,
     "metadata": {},
     "output_type": "execute_result"
    }
   ],
   "source": [
    "person.popitem()"
   ]
  },
  {
   "cell_type": "code",
   "execution_count": 72,
   "id": "c0312fe6",
   "metadata": {},
   "outputs": [
    {
     "data": {
      "text/plain": [
       "True"
      ]
     },
     "execution_count": 72,
     "metadata": {},
     "output_type": "execute_result"
    }
   ],
   "source": [
    "person.setdefault(\"male\", True)"
   ]
  },
  {
   "cell_type": "code",
   "execution_count": 73,
   "id": "c178f89b",
   "metadata": {},
   "outputs": [
    {
     "data": {
      "text/plain": [
       "{'name': 'Annay', 'age': 25, 'male': True}"
      ]
     },
     "execution_count": 73,
     "metadata": {},
     "output_type": "execute_result"
    }
   ],
   "source": [
    "person"
   ]
  },
  {
   "cell_type": "code",
   "execution_count": 74,
   "id": "16d51460",
   "metadata": {},
   "outputs": [],
   "source": [
    "person.update({\"weight\": 72, \"name\" : \"Sourav\"})"
   ]
  },
  {
   "cell_type": "code",
   "execution_count": 75,
   "id": "96de7e67",
   "metadata": {},
   "outputs": [
    {
     "data": {
      "text/plain": [
       "{'name': 'Sourav', 'age': 25, 'male': True, 'weight': 72}"
      ]
     },
     "execution_count": 75,
     "metadata": {},
     "output_type": "execute_result"
    }
   ],
   "source": [
    "person"
   ]
  },
  {
   "cell_type": "code",
   "execution_count": 77,
   "id": "7c1addc6",
   "metadata": {},
   "outputs": [
    {
     "name": "stdout",
     "output_type": "stream",
     "text": [
      "range(0, 5)\n"
     ]
    }
   ],
   "source": [
    "obj = range(5)\n",
    "print(obj)"
   ]
  },
  {
   "cell_type": "code",
   "execution_count": 78,
   "id": "d48fbd35",
   "metadata": {},
   "outputs": [
    {
     "name": "stdout",
     "output_type": "stream",
     "text": [
      "False\n",
      "True\n"
     ]
    }
   ],
   "source": [
    "print(hasattr(range(5), \"__next__\"))\n",
    "print(hasattr(range(5), \"__iter__\"))"
   ]
  },
  {
   "cell_type": "code",
   "execution_count": 79,
   "id": "2e12db41",
   "metadata": {},
   "outputs": [
    {
     "name": "stdout",
     "output_type": "stream",
     "text": [
      "0\n",
      "1\n",
      "2\n",
      "3\n",
      "4\n"
     ]
    }
   ],
   "source": [
    "for i in range(5):\n",
    "    print(i)"
   ]
  },
  {
   "cell_type": "code",
   "execution_count": 80,
   "id": "4d88f3f9",
   "metadata": {},
   "outputs": [
    {
     "name": "stdout",
     "output_type": "stream",
     "text": [
      "5\n",
      "8\n",
      "11\n",
      "14\n"
     ]
    }
   ],
   "source": [
    "for i in range(5, 15, 3):\n",
    "    print(i)"
   ]
  },
  {
   "cell_type": "code",
   "execution_count": 81,
   "id": "edd24810",
   "metadata": {},
   "outputs": [
    {
     "name": "stdout",
     "output_type": "stream",
     "text": [
      "<zip object at 0x000001FE32B60D40>\n",
      "True\n"
     ]
    }
   ],
   "source": [
    "list_1 = [10, 20, 30]\n",
    "list_2 = [12, 14, 16]\n",
    "obj  = zip(list_1, list_2)\n",
    "\n",
    "print(obj)\n",
    "print(hasattr(obj, \"__next__\"))\n"
   ]
  },
  {
   "cell_type": "code",
   "execution_count": 82,
   "id": "2d0a4b86",
   "metadata": {},
   "outputs": [
    {
     "name": "stdout",
     "output_type": "stream",
     "text": [
      "10 12\n",
      "20 14\n",
      "30 16\n"
     ]
    }
   ],
   "source": [
    "for i, j in obj:\n",
    "    print(i, j)"
   ]
  },
  {
   "cell_type": "code",
   "execution_count": 83,
   "id": "4135dbbf",
   "metadata": {},
   "outputs": [
    {
     "name": "stdout",
     "output_type": "stream",
     "text": [
      "N M\n",
      "a e\n",
      "f h\n",
      "i e\n",
      "s r\n",
      "a i\n"
     ]
    }
   ],
   "source": [
    "for x, y  in zip(\"Nafisa\", \"Meherin\"):\n",
    "    print(x, y)"
   ]
  },
  {
   "cell_type": "code",
   "execution_count": null,
   "id": "1dd8990d",
   "metadata": {},
   "outputs": [],
   "source": []
  }
 ],
 "metadata": {
  "kernelspec": {
   "display_name": "Python 3 (ipykernel)",
   "language": "python",
   "name": "python3"
  },
  "language_info": {
   "codemirror_mode": {
    "name": "ipython",
    "version": 3
   },
   "file_extension": ".py",
   "mimetype": "text/x-python",
   "name": "python",
   "nbconvert_exporter": "python",
   "pygments_lexer": "ipython3",
   "version": "3.9.1"
  }
 },
 "nbformat": 4,
 "nbformat_minor": 5
}
