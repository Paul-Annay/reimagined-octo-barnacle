{
 "cells": [
  {
   "cell_type": "markdown",
   "id": "ca176c11",
   "metadata": {},
   "source": [
    "# Type conversion"
   ]
  },
  {
   "cell_type": "markdown",
   "id": "cd6c3b4c",
   "metadata": {},
   "source": [
    "## Non-Iterable --> Iterable"
   ]
  },
  {
   "cell_type": "code",
   "execution_count": 5,
   "id": "43f6ab9c",
   "metadata": {},
   "outputs": [
    {
     "ename": "TypeError",
     "evalue": "'int' object is not iterable",
     "output_type": "error",
     "traceback": [
      "\u001b[1;31m---------------------------------------------------------------------------\u001b[0m",
      "\u001b[1;31mTypeError\u001b[0m                                 Traceback (most recent call last)",
      "Input \u001b[1;32mIn [5]\u001b[0m, in \u001b[0;36m<cell line: 1>\u001b[1;34m()\u001b[0m\n\u001b[1;32m----> 1\u001b[0m \u001b[38;5;28;43mlist\u001b[39;49m\u001b[43m(\u001b[49m\u001b[38;5;241;43m3\u001b[39;49m\u001b[43m)\u001b[49m\n",
      "\u001b[1;31mTypeError\u001b[0m: 'int' object is not iterable"
     ]
    }
   ],
   "source": [
    "list(3)"
   ]
  },
  {
   "cell_type": "code",
   "execution_count": 6,
   "id": "d2c90e99",
   "metadata": {},
   "outputs": [
    {
     "ename": "TypeError",
     "evalue": "'float' object is not iterable",
     "output_type": "error",
     "traceback": [
      "\u001b[1;31m---------------------------------------------------------------------------\u001b[0m",
      "\u001b[1;31mTypeError\u001b[0m                                 Traceback (most recent call last)",
      "Input \u001b[1;32mIn [6]\u001b[0m, in \u001b[0;36m<cell line: 1>\u001b[1;34m()\u001b[0m\n\u001b[1;32m----> 1\u001b[0m \u001b[38;5;28;43mtuple\u001b[39;49m\u001b[43m(\u001b[49m\u001b[38;5;241;43m4.3\u001b[39;49m\u001b[43m)\u001b[49m\n",
      "\u001b[1;31mTypeError\u001b[0m: 'float' object is not iterable"
     ]
    }
   ],
   "source": [
    "tuple(4.3)"
   ]
  },
  {
   "cell_type": "markdown",
   "id": "ccb1bebf",
   "metadata": {},
   "source": [
    "### Exception: str()"
   ]
  },
  {
   "cell_type": "code",
   "execution_count": 4,
   "id": "46565ee8",
   "metadata": {},
   "outputs": [
    {
     "name": "stdout",
     "output_type": "stream",
     "text": [
      "4.3\n",
      "56\n"
     ]
    }
   ],
   "source": [
    "print(str(4.3))\n",
    "print(str(56))"
   ]
  },
  {
   "cell_type": "markdown",
   "id": "2d48719b",
   "metadata": {},
   "source": [
    "## Iterable --> Non-Iterable"
   ]
  },
  {
   "cell_type": "code",
   "execution_count": 7,
   "id": "88309ac1",
   "metadata": {},
   "outputs": [
    {
     "ename": "ValueError",
     "evalue": "invalid literal for int() with base 10: 'Some Name'",
     "output_type": "error",
     "traceback": [
      "\u001b[1;31m---------------------------------------------------------------------------\u001b[0m",
      "\u001b[1;31mValueError\u001b[0m                                Traceback (most recent call last)",
      "Input \u001b[1;32mIn [7]\u001b[0m, in \u001b[0;36m<cell line: 1>\u001b[1;34m()\u001b[0m\n\u001b[1;32m----> 1\u001b[0m \u001b[38;5;28;43mint\u001b[39;49m\u001b[43m(\u001b[49m\u001b[38;5;124;43m\"\u001b[39;49m\u001b[38;5;124;43mSome Name\u001b[39;49m\u001b[38;5;124;43m\"\u001b[39;49m\u001b[43m)\u001b[49m\n",
      "\u001b[1;31mValueError\u001b[0m: invalid literal for int() with base 10: 'Some Name'"
     ]
    }
   ],
   "source": [
    "int(\"Some Name\")    # text cannot be converted, str must only contain"
   ]
  },
  {
   "cell_type": "code",
   "execution_count": 8,
   "id": "5d709892",
   "metadata": {},
   "outputs": [
    {
     "ename": "TypeError",
     "evalue": "float() argument must be a string or a number, not 'list'",
     "output_type": "error",
     "traceback": [
      "\u001b[1;31m---------------------------------------------------------------------------\u001b[0m",
      "\u001b[1;31mTypeError\u001b[0m                                 Traceback (most recent call last)",
      "Input \u001b[1;32mIn [8]\u001b[0m, in \u001b[0;36m<cell line: 1>\u001b[1;34m()\u001b[0m\n\u001b[1;32m----> 1\u001b[0m \u001b[38;5;28;43mfloat\u001b[39;49m\u001b[43m(\u001b[49m\u001b[43m[\u001b[49m\u001b[38;5;241;43m3\u001b[39;49m\u001b[43m,\u001b[49m\u001b[43m \u001b[49m\u001b[38;5;241;43m4\u001b[39;49m\u001b[43m,\u001b[49m\u001b[43m \u001b[49m\u001b[38;5;241;43m5\u001b[39;49m\u001b[43m]\u001b[49m\u001b[43m)\u001b[49m\n",
      "\u001b[1;31mTypeError\u001b[0m: float() argument must be a string or a number, not 'list'"
     ]
    }
   ],
   "source": [
    "float([3, 4, 5])"
   ]
  },
  {
   "cell_type": "markdown",
   "id": "223b8a14",
   "metadata": {},
   "source": [
    "### Exception"
   ]
  },
  {
   "cell_type": "code",
   "execution_count": 9,
   "id": "bc7f8011",
   "metadata": {},
   "outputs": [
    {
     "name": "stdout",
     "output_type": "stream",
     "text": [
      "False\n",
      "True\n",
      "True\n",
      "True\n"
     ]
    }
   ],
   "source": [
    "print(bool([]))\n",
    "print(bool((4, 5)))\n",
    "print(bool(\"Something\"))\n",
    "print(bool([44]))"
   ]
  },
  {
   "cell_type": "markdown",
   "id": "f3153c81",
   "metadata": {},
   "source": [
    "## Iterable --> Iterable"
   ]
  },
  {
   "cell_type": "code",
   "execution_count": 13,
   "id": "8ab0a5c9",
   "metadata": {},
   "outputs": [
    {
     "name": "stdout",
     "output_type": "stream",
     "text": [
      "['C', 'h', 'a', 'r', 'l', 'e', 's', ' ', 'X', 'a', 'v', 'i', 'e', 'r']\n",
      "('C', 'h', 'a', 'r', 'l', 'e', 's', ' ', 'X', 'a', 'v', 'i', 'e', 'r')\n"
     ]
    },
    {
     "ename": "ValueError",
     "evalue": "dictionary update sequence element #0 has length 1; 2 is required",
     "output_type": "error",
     "traceback": [
      "\u001b[1;31m---------------------------------------------------------------------------\u001b[0m",
      "\u001b[1;31mValueError\u001b[0m                                Traceback (most recent call last)",
      "Input \u001b[1;32mIn [13]\u001b[0m, in \u001b[0;36m<cell line: 8>\u001b[1;34m()\u001b[0m\n\u001b[0;32m      6\u001b[0m \u001b[38;5;28mprint\u001b[39m(\u001b[38;5;28mlist\u001b[39m(string))\n\u001b[0;32m      7\u001b[0m \u001b[38;5;28mprint\u001b[39m(\u001b[38;5;28mtuple\u001b[39m(string))\n\u001b[1;32m----> 8\u001b[0m \u001b[38;5;28mprint\u001b[39m(\u001b[38;5;28;43mdict\u001b[39;49m\u001b[43m(\u001b[49m\u001b[43mstring\u001b[49m\u001b[43m)\u001b[49m)\n",
      "\u001b[1;31mValueError\u001b[0m: dictionary update sequence element #0 has length 1; 2 is required"
     ]
    }
   ],
   "source": [
    "list_1 = [20, 30, 40]\n",
    "string = \"Charles Xavier\"\n",
    "tuple_1 = (44, 11, 22)\n",
    "\n",
    "# str -> list, tuple, dict\n",
    "print(list(string))\n",
    "print(tuple(string))\n",
    "print(dict(string))"
   ]
  },
  {
   "cell_type": "markdown",
   "id": "1ab88c5a",
   "metadata": {},
   "source": [
    "## Function"
   ]
  },
  {
   "cell_type": "markdown",
   "id": "4d5f8f31",
   "metadata": {},
   "source": [
    "### Defining functions without parameters and return types"
   ]
  },
  {
   "cell_type": "code",
   "execution_count": 14,
   "id": "da433711",
   "metadata": {},
   "outputs": [],
   "source": [
    "def func():\n",
    "    print(\"Hello World!\")"
   ]
  },
  {
   "cell_type": "code",
   "execution_count": 16,
   "id": "8b276654",
   "metadata": {},
   "outputs": [
    {
     "data": {
      "text/plain": [
       "<function __main__.func()>"
      ]
     },
     "execution_count": 16,
     "metadata": {},
     "output_type": "execute_result"
    }
   ],
   "source": [
    "func"
   ]
  },
  {
   "cell_type": "code",
   "execution_count": 17,
   "id": "9d61915d",
   "metadata": {},
   "outputs": [],
   "source": [
    "another_func = func"
   ]
  },
  {
   "cell_type": "code",
   "execution_count": 19,
   "id": "b1c9afbf",
   "metadata": {},
   "outputs": [
    {
     "name": "stdout",
     "output_type": "stream",
     "text": [
      "<function func at 0x00000245BEB01EE0>\n"
     ]
    }
   ],
   "source": [
    "print(another_func)"
   ]
  },
  {
   "cell_type": "code",
   "execution_count": 20,
   "id": "2d79c0e8",
   "metadata": {},
   "outputs": [
    {
     "name": "stdout",
     "output_type": "stream",
     "text": [
      "Hello World!\n",
      "Hello World!\n"
     ]
    }
   ],
   "source": [
    "func()\n",
    "another_func()"
   ]
  },
  {
   "cell_type": "code",
   "execution_count": 21,
   "id": "3a724d3b",
   "metadata": {},
   "outputs": [],
   "source": [
    "# This is true for built-in functions as well\n",
    "my_len = len"
   ]
  },
  {
   "cell_type": "code",
   "execution_count": 22,
   "id": "a7d28cc7",
   "metadata": {},
   "outputs": [
    {
     "data": {
      "text/plain": [
       "10"
      ]
     },
     "execution_count": 22,
     "metadata": {},
     "output_type": "execute_result"
    }
   ],
   "source": [
    "my_len(\"ANY STRING\")"
   ]
  },
  {
   "cell_type": "markdown",
   "id": "792d44b3",
   "metadata": {},
   "source": [
    "### Functions with parameters"
   ]
  },
  {
   "cell_type": "code",
   "execution_count": 23,
   "id": "7a7b613a",
   "metadata": {},
   "outputs": [
    {
     "name": "stdout",
     "output_type": "stream",
     "text": [
      "Hello, Jason!\n",
      "Hello, David!\n",
      "Hello, Scarlett!\n"
     ]
    }
   ],
   "source": [
    "def func(name):\n",
    "    print(f\"Hello, {name}!\")\n",
    "    \n",
    "func(\"Jason\")\n",
    "func(\"David\")\n",
    "func(\"Scarlett\")"
   ]
  },
  {
   "cell_type": "markdown",
   "id": "2d6880f7",
   "metadata": {},
   "source": [
    "### Default value is passed to the key-word argument"
   ]
  },
  {
   "cell_type": "code",
   "execution_count": 24,
   "id": "aa1ec800",
   "metadata": {},
   "outputs": [
    {
     "name": "stdout",
     "output_type": "stream",
     "text": [
      "Hello, Jason\n",
      "Hello, guest\n"
     ]
    }
   ],
   "source": [
    "def func(name=\"guest\"):\n",
    "    print(f\"Hello, {name}\")\n",
    "\n",
    "func(\"Jason\")\n",
    "func()"
   ]
  },
  {
   "cell_type": "code",
   "execution_count": 26,
   "id": "909caa00",
   "metadata": {},
   "outputs": [
    {
     "name": "stdout",
     "output_type": "stream",
     "text": [
      "Hello, Jason! Your age is 23\n",
      "Hello, guest! Your age is 25\n"
     ]
    }
   ],
   "source": [
    "# Positional arguments need to defined before key-word arguments\n",
    "\n",
    "def func(age, name=\"guest\"):\n",
    "    print(f\"Hello, {name}! Your age is {age}\")\n",
    "\n",
    "func(23, \"Jason\")\n",
    "func(25)"
   ]
  },
  {
   "cell_type": "code",
   "execution_count": 29,
   "id": "6832de93",
   "metadata": {},
   "outputs": [
    {
     "name": "stdout",
     "output_type": "stream",
     "text": [
      "Hello, Jason! Your age is 23. Your height is 5.8\n",
      "Hello, James! Your age is 23. Your height is 6.2\n",
      "Hello, Eric! Your age is 25. Your height is 4.8\n",
      "Hello, 4.8! Your age is 25. Your height is Eric\n"
     ]
    }
   ],
   "source": [
    "# For multiple key-word arguments, we can call them using the key-words, when not maintaing the sequence\n",
    "\n",
    "def func(age, name=\"guest\", height=5.8):\n",
    "    print(f\"Hello, {name}! Your age is {age}. Your height is {height}\")\n",
    "\n",
    "func(23, \"Jason\")\n",
    "func(23, \"James\", 6.2)\n",
    "func(25, height=4.8, name=\"Eric\")\n",
    "func(25, 4.8, \"Eric\")   # Notice the problem here!"
   ]
  },
  {
   "cell_type": "markdown",
   "id": "6cfdec48",
   "metadata": {},
   "source": [
    "### Returns types"
   ]
  },
  {
   "cell_type": "code",
   "execution_count": 31,
   "id": "849e1eff",
   "metadata": {},
   "outputs": [
    {
     "name": "stdout",
     "output_type": "stream",
     "text": [
      "fun function\n",
      "None\n"
     ]
    }
   ],
   "source": [
    "def fun():\n",
    "    print(\"fun function\")\n",
    "    \n",
    "print(fun())   # by default the function returns none"
   ]
  },
  {
   "cell_type": "code",
   "execution_count": 32,
   "id": "879f0cb5",
   "metadata": {},
   "outputs": [
    {
     "name": "stdout",
     "output_type": "stream",
     "text": [
      "fun function\n",
      "10\n"
     ]
    }
   ],
   "source": [
    "# We use the return statement to return anything we want\n",
    "def fun():\n",
    "    print(\"fun function\")\n",
    "    return 10\n",
    "print(fun())"
   ]
  },
  {
   "cell_type": "code",
   "execution_count": 33,
   "id": "51ee526d",
   "metadata": {},
   "outputs": [
    {
     "name": "stdout",
     "output_type": "stream",
     "text": [
      "fun  function\n",
      "10\n"
     ]
    }
   ],
   "source": [
    "# Any statement after return is not executed\n",
    "def fun():\n",
    "    print(\"fun  function\")\n",
    "    return 10\n",
    "    print(\"last line\")   # is never reached\n",
    "\n",
    "print(fun())"
   ]
  },
  {
   "cell_type": "markdown",
   "id": "faa15fea",
   "metadata": {},
   "source": [
    "## map() Function"
   ]
  },
  {
   "cell_type": "code",
   "execution_count": 34,
   "id": "3ca40c92",
   "metadata": {},
   "outputs": [
    {
     "name": "stdout",
     "output_type": "stream",
     "text": [
      "[4, 9, 16, 25]\n"
     ]
    }
   ],
   "source": [
    "def square(x):\n",
    "    return x * x\n",
    "\n",
    "numbers = [2, 3, 4, 5]\n",
    "\n",
    "square_numbers = []\n",
    "\n",
    "for num in numbers:\n",
    "    square_numbers.append(square(num))\n",
    "\n",
    "print(square_numbers)"
   ]
  },
  {
   "cell_type": "code",
   "execution_count": 37,
   "id": "3d8fe34a",
   "metadata": {},
   "outputs": [
    {
     "name": "stdout",
     "output_type": "stream",
     "text": [
      "[4, 9, 16, 25]\n"
     ]
    }
   ],
   "source": [
    "def square(x):\n",
    "    return x * x\n",
    "\n",
    "numbers = [2, 3, 4, 5]\n",
    "square_numbers = list(map(square, numbers))\n",
    "print(square_numbers)"
   ]
  },
  {
   "cell_type": "code",
   "execution_count": 41,
   "id": "606ae96b",
   "metadata": {},
   "outputs": [
    {
     "name": "stdout",
     "output_type": "stream",
     "text": [
      "<map object at 0x00000245BCFF3730>\n"
     ]
    }
   ],
   "source": [
    "mapped_obj = map(square, numbers)\n",
    "print(mapped_obj)"
   ]
  },
  {
   "cell_type": "code",
   "execution_count": 42,
   "id": "c0b2f510",
   "metadata": {},
   "outputs": [
    {
     "data": {
      "text/plain": [
       "True"
      ]
     },
     "execution_count": 42,
     "metadata": {},
     "output_type": "execute_result"
    }
   ],
   "source": [
    "hasattr(mapped_obj, \"__next__\")"
   ]
  },
  {
   "cell_type": "code",
   "execution_count": 43,
   "id": "86ae8c1c",
   "metadata": {},
   "outputs": [
    {
     "name": "stdout",
     "output_type": "stream",
     "text": [
      "[10, 12, 14]\n"
     ]
    }
   ],
   "source": [
    "string_numbers = [\"10\", \"12\", \"14\"]\n",
    "\n",
    "numbers = list(map(int, string_numbers))\n",
    "print(numbers)"
   ]
  },
  {
   "cell_type": "code",
   "execution_count": null,
   "id": "87fc366b",
   "metadata": {},
   "outputs": [],
   "source": []
  }
 ],
 "metadata": {
  "kernelspec": {
   "display_name": "Python 3 (ipykernel)",
   "language": "python",
   "name": "python3"
  },
  "language_info": {
   "codemirror_mode": {
    "name": "ipython",
    "version": 3
   },
   "file_extension": ".py",
   "mimetype": "text/x-python",
   "name": "python",
   "nbconvert_exporter": "python",
   "pygments_lexer": "ipython3",
   "version": "3.9.1"
  }
 },
 "nbformat": 4,
 "nbformat_minor": 5
}
