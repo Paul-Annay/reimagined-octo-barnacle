{
 "cells": [
  {
   "cell_type": "markdown",
   "id": "dacdaca5",
   "metadata": {},
   "source": [
    "# Type conversion"
   ]
  },
  {
   "cell_type": "markdown",
   "id": "0afcb930",
   "metadata": {},
   "source": [
    "## Non-Iterable --> Iterable"
   ]
  },
  {
   "cell_type": "code",
   "execution_count": 5,
   "id": "230abd8e",
   "metadata": {},
   "outputs": [
    {
     "ename": "TypeError",
     "evalue": "'int' object is not iterable",
     "output_type": "error",
     "traceback": [
      "\u001b[1;31m---------------------------------------------------------------------------\u001b[0m",
      "\u001b[1;31mTypeError\u001b[0m                                 Traceback (most recent call last)",
      "Input \u001b[1;32mIn [5]\u001b[0m, in \u001b[0;36m<cell line: 1>\u001b[1;34m()\u001b[0m\n\u001b[1;32m----> 1\u001b[0m \u001b[38;5;28;43mlist\u001b[39;49m\u001b[43m(\u001b[49m\u001b[38;5;241;43m3\u001b[39;49m\u001b[43m)\u001b[49m\n",
      "\u001b[1;31mTypeError\u001b[0m: 'int' object is not iterable"
     ]
    }
   ],
   "source": [
    "list(3)"
   ]
  },
  {
   "cell_type": "code",
   "execution_count": 6,
   "id": "fdc7019d",
   "metadata": {},
   "outputs": [
    {
     "ename": "TypeError",
     "evalue": "'float' object is not iterable",
     "output_type": "error",
     "traceback": [
      "\u001b[1;31m---------------------------------------------------------------------------\u001b[0m",
      "\u001b[1;31mTypeError\u001b[0m                                 Traceback (most recent call last)",
      "Input \u001b[1;32mIn [6]\u001b[0m, in \u001b[0;36m<cell line: 1>\u001b[1;34m()\u001b[0m\n\u001b[1;32m----> 1\u001b[0m \u001b[38;5;28;43mtuple\u001b[39;49m\u001b[43m(\u001b[49m\u001b[38;5;241;43m4.3\u001b[39;49m\u001b[43m)\u001b[49m\n",
      "\u001b[1;31mTypeError\u001b[0m: 'float' object is not iterable"
     ]
    }
   ],
   "source": [
    "tuple(4.3)"
   ]
  },
  {
   "cell_type": "markdown",
   "id": "56042c04",
   "metadata": {},
   "source": [
    "### Exception: str()"
   ]
  },
  {
   "cell_type": "code",
   "execution_count": 4,
   "id": "9064c6df",
   "metadata": {},
   "outputs": [
    {
     "name": "stdout",
     "output_type": "stream",
     "text": [
      "4.3\n",
      "56\n"
     ]
    }
   ],
   "source": [
    "print(str(4.3))\n",
    "print(str(56))"
   ]
  },
  {
   "cell_type": "markdown",
   "id": "773d1feb",
   "metadata": {},
   "source": [
    "## Iterable --> Non-Iterable"
   ]
  },
  {
   "cell_type": "code",
   "execution_count": 7,
   "id": "89d91bc4",
   "metadata": {},
   "outputs": [
    {
     "ename": "ValueError",
     "evalue": "invalid literal for int() with base 10: 'Some Name'",
     "output_type": "error",
     "traceback": [
      "\u001b[1;31m---------------------------------------------------------------------------\u001b[0m",
      "\u001b[1;31mValueError\u001b[0m                                Traceback (most recent call last)",
      "Input \u001b[1;32mIn [7]\u001b[0m, in \u001b[0;36m<cell line: 1>\u001b[1;34m()\u001b[0m\n\u001b[1;32m----> 1\u001b[0m \u001b[38;5;28;43mint\u001b[39;49m\u001b[43m(\u001b[49m\u001b[38;5;124;43m\"\u001b[39;49m\u001b[38;5;124;43mSome Name\u001b[39;49m\u001b[38;5;124;43m\"\u001b[39;49m\u001b[43m)\u001b[49m\n",
      "\u001b[1;31mValueError\u001b[0m: invalid literal for int() with base 10: 'Some Name'"
     ]
    }
   ],
   "source": [
    "int(\"Some Name\")    # text cannot be converted, str must only contain"
   ]
  },
  {
   "cell_type": "code",
   "execution_count": 8,
   "id": "370d8946",
   "metadata": {},
   "outputs": [
    {
     "ename": "TypeError",
     "evalue": "float() argument must be a string or a number, not 'list'",
     "output_type": "error",
     "traceback": [
      "\u001b[1;31m---------------------------------------------------------------------------\u001b[0m",
      "\u001b[1;31mTypeError\u001b[0m                                 Traceback (most recent call last)",
      "Input \u001b[1;32mIn [8]\u001b[0m, in \u001b[0;36m<cell line: 1>\u001b[1;34m()\u001b[0m\n\u001b[1;32m----> 1\u001b[0m \u001b[38;5;28;43mfloat\u001b[39;49m\u001b[43m(\u001b[49m\u001b[43m[\u001b[49m\u001b[38;5;241;43m3\u001b[39;49m\u001b[43m,\u001b[49m\u001b[43m \u001b[49m\u001b[38;5;241;43m4\u001b[39;49m\u001b[43m,\u001b[49m\u001b[43m \u001b[49m\u001b[38;5;241;43m5\u001b[39;49m\u001b[43m]\u001b[49m\u001b[43m)\u001b[49m\n",
      "\u001b[1;31mTypeError\u001b[0m: float() argument must be a string or a number, not 'list'"
     ]
    }
   ],
   "source": [
    "float([3, 4, 5])"
   ]
  },
  {
   "cell_type": "markdown",
   "id": "f977d3c7",
   "metadata": {},
   "source": [
    "### Exception"
   ]
  },
  {
   "cell_type": "code",
   "execution_count": 9,
   "id": "a67e0472",
   "metadata": {},
   "outputs": [
    {
     "name": "stdout",
     "output_type": "stream",
     "text": [
      "False\n",
      "True\n",
      "True\n",
      "True\n"
     ]
    }
   ],
   "source": [
    "print(bool([]))\n",
    "print(bool((4, 5)))\n",
    "print(bool(\"Something\"))\n",
    "print(bool([44]))"
   ]
  },
  {
   "cell_type": "markdown",
   "id": "0042001e",
   "metadata": {},
   "source": [
    "## Iterable --> Iterable"
   ]
  },
  {
   "cell_type": "code",
   "execution_count": 13,
   "id": "f5d8bbcb",
   "metadata": {},
   "outputs": [
    {
     "name": "stdout",
     "output_type": "stream",
     "text": [
      "['C', 'h', 'a', 'r', 'l', 'e', 's', ' ', 'X', 'a', 'v', 'i', 'e', 'r']\n",
      "('C', 'h', 'a', 'r', 'l', 'e', 's', ' ', 'X', 'a', 'v', 'i', 'e', 'r')\n"
     ]
    },
    {
     "ename": "ValueError",
     "evalue": "dictionary update sequence element #0 has length 1; 2 is required",
     "output_type": "error",
     "traceback": [
      "\u001b[1;31m---------------------------------------------------------------------------\u001b[0m",
      "\u001b[1;31mValueError\u001b[0m                                Traceback (most recent call last)",
      "Input \u001b[1;32mIn [13]\u001b[0m, in \u001b[0;36m<cell line: 8>\u001b[1;34m()\u001b[0m\n\u001b[0;32m      6\u001b[0m \u001b[38;5;28mprint\u001b[39m(\u001b[38;5;28mlist\u001b[39m(string))\n\u001b[0;32m      7\u001b[0m \u001b[38;5;28mprint\u001b[39m(\u001b[38;5;28mtuple\u001b[39m(string))\n\u001b[1;32m----> 8\u001b[0m \u001b[38;5;28mprint\u001b[39m(\u001b[38;5;28;43mdict\u001b[39;49m\u001b[43m(\u001b[49m\u001b[43mstring\u001b[49m\u001b[43m)\u001b[49m)\n",
      "\u001b[1;31mValueError\u001b[0m: dictionary update sequence element #0 has length 1; 2 is required"
     ]
    }
   ],
   "source": [
    "list_1 = [20, 30, 40]\n",
    "string = \"Charles Xavier\"\n",
    "tuple_1 = (44, 11, 22)\n",
    "\n",
    "# str -> list, tuple, dict\n",
    "print(list(string))\n",
    "print(tuple(string))\n",
    "print(dict(string))"
   ]
  },
  {
   "cell_type": "markdown",
   "id": "2598c24b",
   "metadata": {},
   "source": [
    "## Function"
   ]
  },
  {
   "cell_type": "markdown",
   "id": "b51d2c51",
   "metadata": {},
   "source": [
    "### Defining functions without parameters and return types"
   ]
  },
  {
   "cell_type": "code",
   "execution_count": 14,
   "id": "40b9124b",
   "metadata": {},
   "outputs": [],
   "source": [
    "def func():\n",
    "    print(\"Hello World!\")"
   ]
  },
  {
   "cell_type": "code",
   "execution_count": 16,
   "id": "6f197032",
   "metadata": {},
   "outputs": [
    {
     "data": {
      "text/plain": [
       "<function __main__.func()>"
      ]
     },
     "execution_count": 16,
     "metadata": {},
     "output_type": "execute_result"
    }
   ],
   "source": [
    "func"
   ]
  },
  {
   "cell_type": "code",
   "execution_count": 17,
   "id": "2ee1d1d9",
   "metadata": {},
   "outputs": [],
   "source": [
    "another_func = func"
   ]
  },
  {
   "cell_type": "code",
   "execution_count": 19,
   "id": "ff56d5ae",
   "metadata": {},
   "outputs": [
    {
     "name": "stdout",
     "output_type": "stream",
     "text": [
      "<function func at 0x00000245BEB01EE0>\n"
     ]
    }
   ],
   "source": [
    "print(another_func)"
   ]
  },
  {
   "cell_type": "code",
   "execution_count": 20,
   "id": "ccfdf14e",
   "metadata": {},
   "outputs": [
    {
     "name": "stdout",
     "output_type": "stream",
     "text": [
      "Hello World!\n",
      "Hello World!\n"
     ]
    }
   ],
   "source": [
    "func()\n",
    "another_func()"
   ]
  },
  {
   "cell_type": "code",
   "execution_count": 21,
   "id": "07263e1e",
   "metadata": {},
   "outputs": [],
   "source": [
    "# This is true for built-in functions as well\n",
    "my_len = len"
   ]
  },
  {
   "cell_type": "code",
   "execution_count": 22,
   "id": "30b9c85c",
   "metadata": {},
   "outputs": [
    {
     "data": {
      "text/plain": [
       "10"
      ]
     },
     "execution_count": 22,
     "metadata": {},
     "output_type": "execute_result"
    }
   ],
   "source": [
    "my_len(\"ANY STRING\")"
   ]
  },
  {
   "cell_type": "markdown",
   "id": "72dd32e7",
   "metadata": {},
   "source": [
    "### Functions with parameters"
   ]
  },
  {
   "cell_type": "code",
   "execution_count": 23,
   "id": "0e399c8a",
   "metadata": {},
   "outputs": [
    {
     "name": "stdout",
     "output_type": "stream",
     "text": [
      "Hello, Jason!\n",
      "Hello, David!\n",
      "Hello, Scarlett!\n"
     ]
    }
   ],
   "source": [
    "def func(name):\n",
    "    print(f\"Hello, {name}!\")\n",
    "    \n",
    "func(\"Jason\")\n",
    "func(\"David\")\n",
    "func(\"Scarlett\")"
   ]
  },
  {
   "cell_type": "markdown",
   "id": "6399861b",
   "metadata": {},
   "source": [
    "### Default value is passed to the key-word argument"
   ]
  },
  {
   "cell_type": "code",
   "execution_count": 24,
   "id": "13bf5f1e",
   "metadata": {},
   "outputs": [
    {
     "name": "stdout",
     "output_type": "stream",
     "text": [
      "Hello, Jason\n",
      "Hello, guest\n"
     ]
    }
   ],
   "source": [
    "def func(name=\"guest\"):\n",
    "    print(f\"Hello, {name}\")\n",
    "\n",
    "func(\"Jason\")\n",
    "func()"
   ]
  },
  {
   "cell_type": "code",
   "execution_count": 26,
   "id": "362dd021",
   "metadata": {},
   "outputs": [
    {
     "name": "stdout",
     "output_type": "stream",
     "text": [
      "Hello, Jason! Your age is 23\n",
      "Hello, guest! Your age is 25\n"
     ]
    }
   ],
   "source": [
    "# Positional arguments need to defined before key-word arguments\n",
    "\n",
    "def func(age, name=\"guest\"):\n",
    "    print(f\"Hello, {name}! Your age is {age}\")\n",
    "\n",
    "func(23, \"Jason\")\n",
    "func(25)"
   ]
  },
  {
   "cell_type": "code",
   "execution_count": 29,
   "id": "e7a76490",
   "metadata": {},
   "outputs": [
    {
     "name": "stdout",
     "output_type": "stream",
     "text": [
      "Hello, Jason! Your age is 23. Your height is 5.8\n",
      "Hello, James! Your age is 23. Your height is 6.2\n",
      "Hello, Eric! Your age is 25. Your height is 4.8\n",
      "Hello, 4.8! Your age is 25. Your height is Eric\n"
     ]
    }
   ],
   "source": [
    "# For multiple key-word arguments, we can call them using the key-words, when not maintaing the sequence\n",
    "\n",
    "def func(age, name=\"guest\", height=5.8):\n",
    "    print(f\"Hello, {name}! Your age is {age}. Your height is {height}\")\n",
    "\n",
    "func(23, \"Jason\")\n",
    "func(23, \"James\", 6.2)\n",
    "func(25, height=4.8, name=\"Eric\")\n",
    "func(25, 4.8, \"Eric\")   # Notice the problem here!"
   ]
  },
  {
   "cell_type": "markdown",
   "id": "ae5b23d3",
   "metadata": {},
   "source": [
    "### Returns types"
   ]
  },
  {
   "cell_type": "code",
   "execution_count": 31,
   "id": "7ef14676",
   "metadata": {},
   "outputs": [
    {
     "name": "stdout",
     "output_type": "stream",
     "text": [
      "fun function\n",
      "None\n"
     ]
    }
   ],
   "source": [
    "def fun():\n",
    "    print(\"fun function\")\n",
    "    \n",
    "print(fun())   # by default the function returns none"
   ]
  },
  {
   "cell_type": "code",
   "execution_count": 32,
   "id": "6f53d4ba",
   "metadata": {},
   "outputs": [
    {
     "name": "stdout",
     "output_type": "stream",
     "text": [
      "fun function\n",
      "10\n"
     ]
    }
   ],
   "source": [
    "# We use the return statement to return anything we want\n",
    "def fun():\n",
    "    print(\"fun function\")\n",
    "    return 10\n",
    "print(fun())"
   ]
  },
  {
   "cell_type": "code",
   "execution_count": 33,
   "id": "081c2fdb",
   "metadata": {},
   "outputs": [
    {
     "name": "stdout",
     "output_type": "stream",
     "text": [
      "fun  function\n",
      "10\n"
     ]
    }
   ],
   "source": [
    "# Any statement after return is not executed\n",
    "def fun():\n",
    "    print(\"fun  function\")\n",
    "    return 10\n",
    "    print(\"last line\")   # is never reached\n",
    "\n",
    "print(fun())"
   ]
  },
  {
   "cell_type": "code",
   "execution_count": null,
   "id": "5ce4812d",
   "metadata": {},
   "outputs": [],
   "source": []
  }
 ],
 "metadata": {
  "kernelspec": {
   "display_name": "Python 3 (ipykernel)",
   "language": "python",
   "name": "python3"
  },
  "language_info": {
   "codemirror_mode": {
    "name": "ipython",
    "version": 3
   },
   "file_extension": ".py",
   "mimetype": "text/x-python",
   "name": "python",
   "nbconvert_exporter": "python",
   "pygments_lexer": "ipython3",
   "version": "3.9.1"
  }
 },
 "nbformat": 4,
 "nbformat_minor": 5
}
