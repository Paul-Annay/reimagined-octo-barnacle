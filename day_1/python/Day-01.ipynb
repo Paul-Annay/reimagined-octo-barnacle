{
 "cells": [
  {
   "cell_type": "markdown",
   "id": "f49ea8b7",
   "metadata": {},
   "source": [
    "## Numeric Types"
   ]
  },
  {
   "cell_type": "code",
   "execution_count": 131,
   "id": "69a119d1",
   "metadata": {},
   "outputs": [],
   "source": [
    "num1 = 10                # integer\n",
    "num2 = 3.1416         # float\n",
    "num3 = 5 - 6j           # complex"
   ]
  },
  {
   "cell_type": "markdown",
   "id": "d6dba923",
   "metadata": {},
   "source": [
    "### Type checking\n",
    "`type(object)`\n",
    "         - Returns the Type of the given object"
   ]
  },
  {
   "cell_type": "code",
   "execution_count": 132,
   "id": "94a7864a",
   "metadata": {},
   "outputs": [
    {
     "name": "stdout",
     "output_type": "stream",
     "text": [
      "<class 'int'>\n",
      "<class 'str'>\n"
     ]
    }
   ],
   "source": [
    "print(type(num1))\n",
    "print(type(\"New Jersey\"))"
   ]
  },
  {
   "cell_type": "markdown",
   "id": "97c95877",
   "metadata": {},
   "source": [
    "## Numeric Operations"
   ]
  },
  {
   "cell_type": "code",
   "execution_count": 133,
   "id": "9a86c623",
   "metadata": {},
   "outputs": [],
   "source": [
    "var1 = 10\n",
    "var2 = 5"
   ]
  },
  {
   "cell_type": "code",
   "execution_count": 134,
   "id": "1726fbcd",
   "metadata": {},
   "outputs": [
    {
     "data": {
      "text/plain": [
       "15"
      ]
     },
     "execution_count": 134,
     "metadata": {},
     "output_type": "execute_result"
    }
   ],
   "source": [
    "var1 + var2"
   ]
  },
  {
   "cell_type": "code",
   "execution_count": 135,
   "id": "27a52c9c",
   "metadata": {},
   "outputs": [
    {
     "data": {
      "text/plain": [
       "5"
      ]
     },
     "execution_count": 135,
     "metadata": {},
     "output_type": "execute_result"
    }
   ],
   "source": [
    "var1 - var2"
   ]
  },
  {
   "cell_type": "code",
   "execution_count": 136,
   "id": "c26303fe",
   "metadata": {},
   "outputs": [
    {
     "data": {
      "text/plain": [
       "50"
      ]
     },
     "execution_count": 136,
     "metadata": {},
     "output_type": "execute_result"
    }
   ],
   "source": [
    "var1 * var2"
   ]
  },
  {
   "cell_type": "code",
   "execution_count": 137,
   "id": "7b64941c",
   "metadata": {},
   "outputs": [
    {
     "data": {
      "text/plain": [
       "2.0"
      ]
     },
     "execution_count": 137,
     "metadata": {},
     "output_type": "execute_result"
    }
   ],
   "source": [
    "var1 / var2         # Floating Point Division"
   ]
  },
  {
   "cell_type": "code",
   "execution_count": 138,
   "id": "3bfbb299",
   "metadata": {},
   "outputs": [
    {
     "data": {
      "text/plain": [
       "2"
      ]
     },
     "execution_count": 138,
     "metadata": {},
     "output_type": "execute_result"
    }
   ],
   "source": [
    "var1 //  var2       # Integer Division"
   ]
  },
  {
   "cell_type": "code",
   "execution_count": 139,
   "id": "db662160",
   "metadata": {},
   "outputs": [
    {
     "data": {
      "text/plain": [
       "0"
      ]
     },
     "execution_count": 139,
     "metadata": {},
     "output_type": "execute_result"
    }
   ],
   "source": [
    "var1 %  var2"
   ]
  },
  {
   "cell_type": "markdown",
   "id": "fd35ccc2",
   "metadata": {},
   "source": [
    "## Operator Precedence Rule: PEMDAS"
   ]
  },
  {
   "cell_type": "code",
   "execution_count": 140,
   "id": "17df736b",
   "metadata": {},
   "outputs": [
    {
     "data": {
      "text/plain": [
       "109.0"
      ]
     },
     "execution_count": 140,
     "metadata": {},
     "output_type": "execute_result"
    }
   ],
   "source": [
    "12 - 4 / 3 * 12 % 3 + 100 - 2"
   ]
  },
  {
   "cell_type": "code",
   "execution_count": 141,
   "id": "58fa3dd3",
   "metadata": {},
   "outputs": [
    {
     "data": {
      "text/plain": [
       "110.0"
      ]
     },
     "execution_count": 141,
     "metadata": {},
     "output_type": "execute_result"
    }
   ],
   "source": [
    "12 - 12 % 3 * 4 / 3 + 100 - 2"
   ]
  },
  {
   "cell_type": "markdown",
   "id": "83c0df63",
   "metadata": {},
   "source": [
    "## Dillema in Numeric Operations"
   ]
  },
  {
   "cell_type": "code",
   "execution_count": 142,
   "id": "73cbe8f8",
   "metadata": {},
   "outputs": [
    {
     "data": {
      "text/plain": [
       "1.0"
      ]
     },
     "execution_count": 142,
     "metadata": {},
     "output_type": "execute_result"
    }
   ],
   "source": [
    "1 / 3 + 1 / 3 + 1 / 3    # Output should be 0.99999"
   ]
  },
  {
   "cell_type": "code",
   "execution_count": 143,
   "id": "07ecb041",
   "metadata": {},
   "outputs": [
    {
     "data": {
      "text/plain": [
       "1.0"
      ]
     },
     "execution_count": 143,
     "metadata": {},
     "output_type": "execute_result"
    }
   ],
   "source": [
    "1 / 3 * 3             # Output should be 0.99999"
   ]
  },
  {
   "cell_type": "code",
   "execution_count": 144,
   "id": "c4271e2c",
   "metadata": {},
   "outputs": [
    {
     "data": {
      "text/plain": [
       "0.6000000000000001"
      ]
     },
     "execution_count": 144,
     "metadata": {},
     "output_type": "execute_result"
    }
   ],
   "source": [
    "0.2 * 3               # Output should be 0.6"
   ]
  },
  {
   "cell_type": "code",
   "execution_count": 145,
   "id": "b3d0e2c4",
   "metadata": {},
   "outputs": [
    {
     "data": {
      "text/plain": [
       "0.30000000000000004"
      ]
     },
     "execution_count": 145,
     "metadata": {},
     "output_type": "execute_result"
    }
   ],
   "source": [
    "0.1 + 0.2           # Output should be 0.3"
   ]
  },
  {
   "cell_type": "markdown",
   "id": "6b080b97",
   "metadata": {},
   "source": [
    "# Sequence Types"
   ]
  },
  {
   "cell_type": "markdown",
   "id": "d82929eb",
   "metadata": {},
   "source": [
    "### Strings"
   ]
  },
  {
   "cell_type": "code",
   "execution_count": 146,
   "id": "7b48fe6a",
   "metadata": {},
   "outputs": [],
   "source": [
    "single = 'This is a single quote string'\n",
    "double = \"This is a double quote string\"\n",
    "triple = \"\"\"This is a triple quote string\"\"\" # -> multiline string, doc string\n",
    "fstring = f\"This is a format string\""
   ]
  },
  {
   "cell_type": "code",
   "execution_count": 147,
   "id": "2b742ab9",
   "metadata": {},
   "outputs": [
    {
     "name": "stdout",
     "output_type": "stream",
     "text": [
      "This is \n",
      " A new Line\n",
      "This is \t A Tab\n"
     ]
    }
   ],
   "source": [
    "print(\"This is \\n A new Line\")\n",
    "print(\"This is \\t A Tab\")"
   ]
  },
  {
   "cell_type": "code",
   "execution_count": 148,
   "id": "77abdc57",
   "metadata": {},
   "outputs": [
    {
     "data": {
      "text/plain": [
       "(\"This is 'single' quote string\", 'This is \"double\" quote string')"
      ]
     },
     "execution_count": 148,
     "metadata": {},
     "output_type": "execute_result"
    }
   ],
   "source": [
    "single = 'This is \\'single\\' quote string'\n",
    "double = \"This is \\\"double\\\" quote string\"\n",
    "single, double"
   ]
  },
  {
   "cell_type": "code",
   "execution_count": 149,
   "id": "2bf3ff11",
   "metadata": {},
   "outputs": [
    {
     "name": "stdout",
     "output_type": "stream",
     "text": [
      "Writing\n",
      "                A Multiline\n",
      "                String\n",
      "            \n"
     ]
    }
   ],
   "source": [
    "\"\"\"This is treated as a coment\"\"\"\n",
    "triple = \"\"\"Writing\n",
    "                A Multiline\n",
    "                String\n",
    "            \"\"\"\n",
    "print(triple)"
   ]
  },
  {
   "cell_type": "markdown",
   "id": "18245bd4",
   "metadata": {},
   "source": [
    "Accessing elements from a string"
   ]
  },
  {
   "cell_type": "code",
   "execution_count": 150,
   "id": "590ec0d3",
   "metadata": {},
   "outputs": [
    {
     "name": "stdout",
     "output_type": "stream",
     "text": [
      "T\n",
      "L\n",
      "a\n"
     ]
    }
   ],
   "source": [
    "string = \"The Last of Us\"\n",
    "print(string[0])\n",
    "print(string[4])\n",
    "print(string[5])"
   ]
  },
  {
   "cell_type": "markdown",
   "id": "dd943fb7",
   "metadata": {},
   "source": [
    "### Lists"
   ]
  },
  {
   "cell_type": "markdown",
   "id": "6845822c",
   "metadata": {},
   "source": [
    "Creating Empty Lists"
   ]
  },
  {
   "cell_type": "code",
   "execution_count": 151,
   "id": "4dc09a1e",
   "metadata": {},
   "outputs": [
    {
     "name": "stdout",
     "output_type": "stream",
     "text": [
      "[]\n",
      "[]\n"
     ]
    }
   ],
   "source": [
    "list_1 = list()\n",
    "list_2 = []\n",
    "\n",
    "print(list_1)\n",
    "print(list_2)"
   ]
  },
  {
   "cell_type": "markdown",
   "id": "fd021262",
   "metadata": {},
   "source": [
    "Creating Lists with Values"
   ]
  },
  {
   "cell_type": "code",
   "execution_count": 152,
   "id": "25a16a7a",
   "metadata": {},
   "outputs": [
    {
     "name": "stdout",
     "output_type": "stream",
     "text": [
      "[1, 2, 3, 4]\n",
      "[10, 20, 30, 40]\n"
     ]
    }
   ],
   "source": [
    "list_1 = list([1, 2, 3, 4])\n",
    "list_2 = [10, 20, 30, 40]\n",
    "\n",
    "print(list_1)\n",
    "print(list_2)"
   ]
  },
  {
   "cell_type": "markdown",
   "id": "4aafb91b",
   "metadata": {},
   "source": [
    "Accessing elements from a  list"
   ]
  },
  {
   "cell_type": "code",
   "execution_count": 153,
   "id": "c4ca2eb1",
   "metadata": {},
   "outputs": [
    {
     "name": "stdout",
     "output_type": "stream",
     "text": [
      "1\n",
      "40\n"
     ]
    }
   ],
   "source": [
    "print(list_1[0])\n",
    "print(list_2[3])"
   ]
  },
  {
   "cell_type": "markdown",
   "id": "7932831f",
   "metadata": {},
   "source": [
    "## Tuples"
   ]
  },
  {
   "cell_type": "markdown",
   "id": "9f7d1b6f",
   "metadata": {},
   "source": [
    "Creating Empty Tuples"
   ]
  },
  {
   "cell_type": "code",
   "execution_count": 154,
   "id": "8375c46c",
   "metadata": {},
   "outputs": [
    {
     "name": "stdout",
     "output_type": "stream",
     "text": [
      "()\n",
      "()\n"
     ]
    }
   ],
   "source": [
    "tuple_1 = tuple()\n",
    "tuple_2 = ()\n",
    "\n",
    "print(tuple_1)\n",
    "print(tuple_2)"
   ]
  },
  {
   "cell_type": "code",
   "execution_count": 155,
   "id": "f13388b3",
   "metadata": {},
   "outputs": [
    {
     "name": "stdout",
     "output_type": "stream",
     "text": [
      "(20, 22, 28, 24)\n",
      "(11, 22, 33, 44, 55)\n"
     ]
    }
   ],
   "source": [
    "tuple_3 = tuple((20, 22, 28, 24))\n",
    "tuple_4 = (11, 22, 33, 44, 55)\n",
    "\n",
    "print(tuple_3)\n",
    "print(tuple_4)"
   ]
  },
  {
   "cell_type": "code",
   "execution_count": 156,
   "id": "3f80a2d7",
   "metadata": {},
   "outputs": [
    {
     "name": "stdout",
     "output_type": "stream",
     "text": [
      "[10, 20, 30, 55]\n"
     ]
    }
   ],
   "source": [
    "list_2 = [10, 20, 30, 40]\n",
    "tuple_4 = (11, 22, 33, 44, 55)\n",
    "\n",
    "list_2[3] = 55\n",
    "print(list_2)"
   ]
  },
  {
   "cell_type": "code",
   "execution_count": 157,
   "id": "90ab6702",
   "metadata": {},
   "outputs": [
    {
     "ename": "TypeError",
     "evalue": "'tuple' object does not support item assignment",
     "output_type": "error",
     "traceback": [
      "\u001b[1;31m---------------------------------------------------------------------------\u001b[0m",
      "\u001b[1;31mTypeError\u001b[0m                                 Traceback (most recent call last)",
      "Input \u001b[1;32mIn [157]\u001b[0m, in \u001b[0;36m<cell line: 1>\u001b[1;34m()\u001b[0m\n\u001b[1;32m----> 1\u001b[0m tuple_4[\u001b[38;5;241m1\u001b[39m] \u001b[38;5;241m=\u001b[39m \u001b[38;5;241m-\u001b[39m\u001b[38;5;241m33\u001b[39m\n",
      "\u001b[1;31mTypeError\u001b[0m: 'tuple' object does not support item assignment"
     ]
    }
   ],
   "source": [
    "tuple_4[1] = -33"
   ]
  },
  {
   "cell_type": "code",
   "execution_count": null,
   "id": "ba7bd848",
   "metadata": {},
   "outputs": [],
   "source": [
    "values = (44, 27, 11)"
   ]
  },
  {
   "cell_type": "code",
   "execution_count": null,
   "id": "e93ce93d",
   "metadata": {},
   "outputs": [],
   "source": [
    "a, b, c = values\n",
    "print(a, b, c)"
   ]
  },
  {
   "cell_type": "code",
   "execution_count": null,
   "id": "9e04f539",
   "metadata": {},
   "outputs": [],
   "source": [
    "_, b, c = values\n",
    "print(b, c)"
   ]
  },
  {
   "cell_type": "code",
   "execution_count": null,
   "id": "f1057511",
   "metadata": {},
   "outputs": [],
   "source": [
    "values = (44, 27, 11)\n",
    "val_1, val_2 = values"
   ]
  },
  {
   "cell_type": "code",
   "execution_count": null,
   "id": "056bfc60",
   "metadata": {},
   "outputs": [],
   "source": [
    "val_1, val_2, val_3, val_4 = values"
   ]
  },
  {
   "cell_type": "markdown",
   "id": "7588dd8f",
   "metadata": {},
   "source": [
    "## Type Conversion"
   ]
  },
  {
   "cell_type": "markdown",
   "id": "29656e84",
   "metadata": {},
   "source": [
    "Boolean Conversion"
   ]
  },
  {
   "cell_type": "code",
   "execution_count": null,
   "id": "ae0869c8",
   "metadata": {},
   "outputs": [],
   "source": [
    "print(bool(0))\n",
    "print(bool(\"0\"))\n",
    "print(bool(None))\n",
    "print(bool(\"\"))\n",
    "print(bool(\"False\"))\n",
    "print(bool(0.000000000000000001))\n",
    "print(bool(1 / 3) )\n",
    "print(bool(1 // 3))"
   ]
  },
  {
   "cell_type": "markdown",
   "id": "3c232137",
   "metadata": {},
   "source": [
    "Integer Conversion"
   ]
  },
  {
   "cell_type": "code",
   "execution_count": null,
   "id": "4ad356d7",
   "metadata": {
    "scrolled": true
   },
   "outputs": [],
   "source": [
    "print(int(True))         # 1\n",
    "print(int(False))        # 0\n",
    "print(int(0.1441))      # 0\n",
    "print(int(-42.761))    # -42\n",
    "# int(64 - 3j)    # *ERROR*\n",
    "print(int(\"67\"))          # 67\n",
    "print(int(\"  431  \"))    # 431\n",
    "print(int(\" -33  \"))     # -33"
   ]
  },
  {
   "cell_type": "markdown",
   "id": "2af088c9",
   "metadata": {},
   "source": [
    "Floating Conversion"
   ]
  },
  {
   "cell_type": "code",
   "execution_count": null,
   "id": "a1fc1043",
   "metadata": {},
   "outputs": [],
   "source": [
    "print(float(True))          # 1.0\n",
    "print(float(False))         # 0.0\n",
    "print(float(12))             # 12.0\n",
    "print(float(-42))           # -42.0\n",
    "# float(64 - 3j)             # *ERROR*\n",
    "print(float(\"67\"))         # 67.0\n",
    "print(float(\"  4.31  \"))  # 4.31\n",
    "print(float(\" -3.3  \"))   # -3.3"
   ]
  },
  {
   "cell_type": "markdown",
   "id": "d36e6f3c",
   "metadata": {},
   "source": [
    "String Conversion"
   ]
  },
  {
   "cell_type": "code",
   "execution_count": 1,
   "id": "877ecd39",
   "metadata": {},
   "outputs": [
    {
     "name": "stdout",
     "output_type": "stream",
     "text": [
      "132\n",
      "-887.1\n",
      "7j\n",
      "(-0-1.5j)\n",
      "True\n",
      "False\n"
     ]
    }
   ],
   "source": [
    "print(str(132))\n",
    "print(str(-887.1))\n",
    "print(str(7j))\n",
    "print(str(-1.5j))\n",
    "print(str(True))\n",
    "print(str(False))"
   ]
  },
  {
   "cell_type": "markdown",
   "id": "95eafb8d",
   "metadata": {},
   "source": [
    "## Input Output"
   ]
  },
  {
   "cell_type": "code",
   "execution_count": 3,
   "id": "2b2a4ffe",
   "metadata": {},
   "outputs": [
    {
     "name": "stdout",
     "output_type": "stream",
     "text": [
      "message message\n",
      "message\n",
      "message\n"
     ]
    }
   ],
   "source": [
    "print(\"message\", \"message\")    \n",
    "print(\"message\")\n",
    "print(\"message\")"
   ]
  },
  {
   "cell_type": "code",
   "execution_count": 4,
   "id": "8d73f63d",
   "metadata": {},
   "outputs": [
    {
     "name": "stdout",
     "output_type": "stream",
     "text": [
      "message-message-message-message\n"
     ]
    }
   ],
   "source": [
    "print(\"message\", \"message\", sep=\"-\", end=\"-\")    \n",
    "print(\"message\", end=\"-\")\n",
    "print(\"message\")"
   ]
  },
  {
   "cell_type": "markdown",
   "id": "1524bee0",
   "metadata": {},
   "source": [
    "## Conditionals"
   ]
  },
  {
   "cell_type": "code",
   "execution_count": 1,
   "id": "c91647ba",
   "metadata": {},
   "outputs": [
    {
     "name": "stdout",
     "output_type": "stream",
     "text": [
      "Default\n"
     ]
    }
   ],
   "source": [
    "if 3 > 4:\n",
    "    print(\"3 is greater than 4\")\n",
    "elif 3 == 4:\n",
    "    print(\"3 equals 4\")\n",
    "else:\n",
    "    print(\"Default\")"
   ]
  },
  {
   "cell_type": "code",
   "execution_count": 2,
   "id": "95365682",
   "metadata": {},
   "outputs": [
    {
     "name": "stdout",
     "output_type": "stream",
     "text": [
      "3 is less than 4\n"
     ]
    }
   ],
   "source": [
    "if 3 < 4:\n",
    "    print(\"3 is less than 4\")\n",
    "elif 3 == 4:\n",
    "    print(\"3 equals 4\")\n",
    "else:\n",
    "    print(\"Default\")"
   ]
  },
  {
   "cell_type": "markdown",
   "id": "b51dfdd3",
   "metadata": {},
   "source": [
    "## and & or key words"
   ]
  },
  {
   "cell_type": "code",
   "execution_count": 3,
   "id": "d658146c",
   "metadata": {},
   "outputs": [
    {
     "name": "stdout",
     "output_type": "stream",
     "text": [
      "Or is executed\n"
     ]
    }
   ],
   "source": [
    "if 3 > 4 or 5 % 2 == 1:\n",
    "    print(\"Or is executed\")"
   ]
  },
  {
   "cell_type": "code",
   "execution_count": 4,
   "id": "a100fc1b",
   "metadata": {},
   "outputs": [
    {
     "name": "stdout",
     "output_type": "stream",
     "text": [
      "And is not executed\n"
     ]
    }
   ],
   "source": [
    "if 4 % 2 == 0 and 3 >= 4:\n",
    "    print(\"And is executed\")\n",
    "else:\n",
    "    print(\"And is not executed\")"
   ]
  },
  {
   "cell_type": "code",
   "execution_count": null,
   "id": "04524a52",
   "metadata": {},
   "outputs": [],
   "source": []
  }
 ],
 "metadata": {
  "kernelspec": {
   "display_name": "Python 3 (ipykernel)",
   "language": "python",
   "name": "python3"
  },
  "language_info": {
   "codemirror_mode": {
    "name": "ipython",
    "version": 3
   },
   "file_extension": ".py",
   "mimetype": "text/x-python",
   "name": "python",
   "nbconvert_exporter": "python",
   "pygments_lexer": "ipython3",
   "version": "3.9.1"
  }
 },
 "nbformat": 4,
 "nbformat_minor": 5
}
