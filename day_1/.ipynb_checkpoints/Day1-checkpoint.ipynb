{
 "cells": [
  {
   "cell_type": "markdown",
   "id": "f4aaac83",
   "metadata": {},
   "source": [
    "## Numeric Types"
   ]
  },
  {
   "cell_type": "code",
   "execution_count": 2,
   "id": "066886b9",
   "metadata": {},
   "outputs": [],
   "source": [
    "num1 = 10                # integer\n",
    "num2 = 3.1416         # float\n",
    "num3 = 5 - 6j           # complex"
   ]
  },
  {
   "cell_type": "markdown",
   "id": "ff5f9c9b",
   "metadata": {},
   "source": [
    "### Type checking\n",
    "   \n",
    "       `type(object)`\n",
    "         - Returns the Type of the given object"
   ]
  },
  {
   "cell_type": "code",
   "execution_count": 15,
   "id": "f528b5d3",
   "metadata": {},
   "outputs": [
    {
     "name": "stdout",
     "output_type": "stream",
     "text": [
      "<class 'int'>\n",
      "<class 'str'>\n"
     ]
    }
   ],
   "source": [
    "print(type(num1))\n",
    "print(type(\"New Jersey\"))"
   ]
  },
  {
   "cell_type": "markdown",
   "id": "f912ac0f",
   "metadata": {},
   "source": [
    "## Numeric Operations"
   ]
  },
  {
   "cell_type": "code",
   "execution_count": 16,
   "id": "17a72b69",
   "metadata": {},
   "outputs": [],
   "source": [
    "var1 = 10\n",
    "var2 = 5"
   ]
  },
  {
   "cell_type": "code",
   "execution_count": 17,
   "id": "a1455fb0",
   "metadata": {},
   "outputs": [
    {
     "data": {
      "text/plain": [
       "15"
      ]
     },
     "execution_count": 17,
     "metadata": {},
     "output_type": "execute_result"
    }
   ],
   "source": [
    "var1 + var2"
   ]
  },
  {
   "cell_type": "code",
   "execution_count": 18,
   "id": "63a6e1bf",
   "metadata": {},
   "outputs": [
    {
     "data": {
      "text/plain": [
       "5"
      ]
     },
     "execution_count": 18,
     "metadata": {},
     "output_type": "execute_result"
    }
   ],
   "source": [
    "var1 - var2"
   ]
  },
  {
   "cell_type": "code",
   "execution_count": 19,
   "id": "8933e6aa",
   "metadata": {},
   "outputs": [
    {
     "data": {
      "text/plain": [
       "50"
      ]
     },
     "execution_count": 19,
     "metadata": {},
     "output_type": "execute_result"
    }
   ],
   "source": [
    "var1 * var2"
   ]
  },
  {
   "cell_type": "code",
   "execution_count": 20,
   "id": "165184db",
   "metadata": {},
   "outputs": [
    {
     "data": {
      "text/plain": [
       "2.0"
      ]
     },
     "execution_count": 20,
     "metadata": {},
     "output_type": "execute_result"
    }
   ],
   "source": [
    "var1 / var2         # Floating Point Division"
   ]
  },
  {
   "cell_type": "code",
   "execution_count": 21,
   "id": "6c8683eb",
   "metadata": {},
   "outputs": [
    {
     "data": {
      "text/plain": [
       "2"
      ]
     },
     "execution_count": 21,
     "metadata": {},
     "output_type": "execute_result"
    }
   ],
   "source": [
    "var1 //  var2       # Integer Division"
   ]
  },
  {
   "cell_type": "code",
   "execution_count": 22,
   "id": "1f3bc1cd",
   "metadata": {},
   "outputs": [
    {
     "data": {
      "text/plain": [
       "0"
      ]
     },
     "execution_count": 22,
     "metadata": {},
     "output_type": "execute_result"
    }
   ],
   "source": [
    "var1 %  var2"
   ]
  },
  {
   "cell_type": "code",
   "execution_count": 13,
   "id": "1cae0ab6",
   "metadata": {},
   "outputs": [
    {
     "data": {
      "text/plain": [
       "1.0"
      ]
     },
     "execution_count": 13,
     "metadata": {},
     "output_type": "execute_result"
    }
   ],
   "source": [
    "result_1 = 1 / 3 + 1 / 3 + 1 / 3\n",
    "result_1"
   ]
  },
  {
   "cell_type": "code",
   "execution_count": 14,
   "id": "5e206891",
   "metadata": {},
   "outputs": [
    {
     "data": {
      "text/plain": [
       "1.0"
      ]
     },
     "execution_count": 14,
     "metadata": {},
     "output_type": "execute_result"
    }
   ],
   "source": [
    "result_2 = 1 / 3 * 3\n",
    "result_2"
   ]
  },
  {
   "cell_type": "code",
   "execution_count": null,
   "id": "e4d72718",
   "metadata": {},
   "outputs": [],
   "source": []
  }
 ],
 "metadata": {
  "kernelspec": {
   "display_name": "Python 3 (ipykernel)",
   "language": "python",
   "name": "python3"
  },
  "language_info": {
   "codemirror_mode": {
    "name": "ipython",
    "version": 3
   },
   "file_extension": ".py",
   "mimetype": "text/x-python",
   "name": "python",
   "nbconvert_exporter": "python",
   "pygments_lexer": "ipython3",
   "version": "3.9.1"
  }
 },
 "nbformat": 4,
 "nbformat_minor": 5
}
