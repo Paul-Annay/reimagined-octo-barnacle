{
 "cells": [
  {
   "cell_type": "markdown",
   "id": "e6733cb4",
   "metadata": {},
   "source": [
    "## Strings"
   ]
  },
  {
   "cell_type": "markdown",
   "id": "d86ca1d9",
   "metadata": {},
   "source": [
    "### Length of Strings"
   ]
  },
  {
   "cell_type": "code",
   "execution_count": 78,
   "id": "aefbfeaf",
   "metadata": {},
   "outputs": [],
   "source": [
    "single = 'This is single quote string'\n",
    "double = \"This is double quote string\"\n",
    "triple = \"\"\"This is triple quote string\"\"\"\n",
    "fmt = f'Example format string'"
   ]
  },
  {
   "cell_type": "markdown",
   "id": "d57fcab2",
   "metadata": {},
   "source": [
    "`len(string)` --> Returns the numbers of characters in a given string"
   ]
  },
  {
   "cell_type": "code",
   "execution_count": 79,
   "id": "2b410c93",
   "metadata": {},
   "outputs": [
    {
     "name": "stdout",
     "output_type": "stream",
     "text": [
      "27\n",
      "27\n"
     ]
    }
   ],
   "source": [
    "print(len(single))\n",
    "print(len(double))"
   ]
  },
  {
   "cell_type": "markdown",
   "id": "14ac8105",
   "metadata": {},
   "source": [
    "### Indexing"
   ]
  },
  {
   "cell_type": "code",
   "execution_count": 80,
   "id": "28be20a6",
   "metadata": {},
   "outputs": [
    {
     "name": "stdout",
     "output_type": "stream",
     "text": [
      "s\n",
      "s\n"
     ]
    }
   ],
   "source": [
    "print(single[8])\n",
    "print(single[-19])"
   ]
  },
  {
   "cell_type": "markdown",
   "id": "80833261",
   "metadata": {},
   "source": [
    "### Slicing"
   ]
  },
  {
   "cell_type": "code",
   "execution_count": 81,
   "id": "a56bdc2e",
   "metadata": {},
   "outputs": [
    {
     "name": "stdout",
     "output_type": "stream",
     "text": [
      "This\n",
      "single\n"
     ]
    }
   ],
   "source": [
    "single = \"This is a single quote str\"\n",
    "\n",
    "print(single[0:4])\n",
    "print(single[10:16])"
   ]
  },
  {
   "cell_type": "code",
   "execution_count": 82,
   "id": "bfeb2418",
   "metadata": {},
   "outputs": [
    {
     "name": "stdout",
     "output_type": "stream",
     "text": [
      "single\n",
      "snl\n",
      "sg\n",
      "sl\n"
     ]
    }
   ],
   "source": [
    "print(single[10:16:1])\n",
    "print(single[10:16:2])\n",
    "print(single[10:16:3])\n",
    "print(single[10:16:4])"
   ]
  },
  {
   "cell_type": "code",
   "execution_count": 83,
   "id": "283285d7",
   "metadata": {},
   "outputs": [
    {
     "data": {
      "text/plain": [
       "'ei'"
      ]
     },
     "execution_count": 83,
     "metadata": {},
     "output_type": "execute_result"
    }
   ],
   "source": [
    "single[15:9:-1]\n",
    "single[15:9:-2]\n",
    "single[15:9:-3]\n",
    "single[15:9:-4]"
   ]
  },
  {
   "cell_type": "markdown",
   "id": "43e4c719",
   "metadata": {},
   "source": [
    "## Format Strings"
   ]
  },
  {
   "cell_type": "code",
   "execution_count": 84,
   "id": "0c153421",
   "metadata": {},
   "outputs": [],
   "source": [
    "message_1 = \"John Smith whose age is 34 years and height is 6.2 lives in New York\"\n",
    "message_2 = \"Anna Brown whose age is 23 years and height is 5.8 lives in Oklahoma\"\n",
    "message_3 = \"Antony Blake whoese age is 24 year and height is 4.9 lives in Ohio\""
   ]
  },
  {
   "cell_type": "code",
   "execution_count": 85,
   "id": "6b790b97",
   "metadata": {},
   "outputs": [
    {
     "ename": "TypeError",
     "evalue": "can only concatenate str (not \"int\") to str",
     "output_type": "error",
     "traceback": [
      "\u001b[1;31m---------------------------------------------------------------------------\u001b[0m",
      "\u001b[1;31mTypeError\u001b[0m                                 Traceback (most recent call last)",
      "Input \u001b[1;32mIn [85]\u001b[0m, in \u001b[0;36m<cell line: 6>\u001b[1;34m()\u001b[0m\n\u001b[0;32m      3\u001b[0m height_1 \u001b[38;5;241m=\u001b[39m \u001b[38;5;241m6.2\u001b[39m\n\u001b[0;32m      4\u001b[0m city \u001b[38;5;241m=\u001b[39m \u001b[38;5;124m\"\u001b[39m\u001b[38;5;124mNew York\u001b[39m\u001b[38;5;124m\"\u001b[39m\n\u001b[1;32m----> 6\u001b[0m message_1 \u001b[38;5;241m=\u001b[39m \u001b[43mname_1\u001b[49m\u001b[43m \u001b[49m\u001b[38;5;241;43m+\u001b[39;49m\u001b[43m \u001b[49m\u001b[38;5;124;43m\"\u001b[39;49m\u001b[38;5;124;43m whose age is \u001b[39;49m\u001b[38;5;124;43m\"\u001b[39;49m\u001b[43m \u001b[49m\u001b[38;5;241;43m+\u001b[39;49m\u001b[43m \u001b[49m\u001b[43mage_1\u001b[49m \u001b[38;5;241m+\u001b[39m \u001b[38;5;124m\"\u001b[39m\u001b[38;5;124m years and height is \u001b[39m\u001b[38;5;124m\"\u001b[39m \u001b[38;5;241m+\u001b[39m height_1 \u001b[38;5;241m+\u001b[39m \u001b[38;5;124m\"\u001b[39m\u001b[38;5;124m lives in \u001b[39m\u001b[38;5;124m\"\u001b[39m \u001b[38;5;241m+\u001b[39m city\n",
      "\u001b[1;31mTypeError\u001b[0m: can only concatenate str (not \"int\") to str"
     ]
    }
   ],
   "source": [
    "name_1 = \"John Smith\"\n",
    "age_1 = 34\n",
    "height_1 = 6.2\n",
    "city = \"New York\"\n",
    "\n",
    "message_1 = name_1 + \" whose age is \" + age_1 + \" years and height is \" + height_1 + \" lives in \" + city"
   ]
  },
  {
   "cell_type": "code",
   "execution_count": 86,
   "id": "d65e8f85",
   "metadata": {},
   "outputs": [
    {
     "name": "stdout",
     "output_type": "stream",
     "text": [
      "John Smith whose age is 34 years and height is 6.2 lives inNew York\n",
      "Anna Brown whose age is 23 years and height is 5.8 lives inOklahoma\n",
      "Antony Blake whose age is 24 years and height is 4.9 lives inOhio\n"
     ]
    }
   ],
   "source": [
    "name_1 = \"John Smith\"\n",
    "age_1 = 34\n",
    "height_1 = 6.2\n",
    "city_1 = \"New York\"\n",
    "\n",
    "name_2 = \"Anna Brown\"\n",
    "age_2 = 23\n",
    "height_2 = 5.8\n",
    "city_2 = \"Oklahoma\"\n",
    "\n",
    "name_3 = \"Antony Blake\"\n",
    "age_3 = 24\n",
    "height_3 = 4.9\n",
    "city_3 = \"Ohio\"\n",
    "\n",
    "print(f\"{name_1} whose age is {age_1} years and height is {height_1} lives in{city_1}\")\n",
    "print(f\"{name_2} whose age is {age_2} years and height is {height_2} lives in{city_2}\")\n",
    "print(f\"{name_3} whose age is {age_3} years and height is {height_3} lives in{city_3}\")"
   ]
  },
  {
   "cell_type": "markdown",
   "id": "8e8e524b",
   "metadata": {},
   "source": [
    "### String Method"
   ]
  },
  {
   "cell_type": "markdown",
   "id": "f0e72b8d",
   "metadata": {},
   "source": [
    "CASE: capitalize, upper, lower, swapcase"
   ]
  },
  {
   "cell_type": "code",
   "execution_count": 87,
   "id": "39f05b66",
   "metadata": {},
   "outputs": [
    {
     "name": "stdout",
     "output_type": "stream",
     "text": [
      "Dummy string\n",
      "DUMMY STRING\n",
      "dummy string\n",
      "DUMMY STRING\n",
      "dummy string\n"
     ]
    }
   ],
   "source": [
    "example = \"dummy string\"\n",
    "print(example.capitalize())      # Upper cases the first character\n",
    "print(example.upper())           # Upper cases all characters\n",
    "print(example.lower())            # Lower caces all characters\n",
    "print(example.swapcase())      # Changes upper cases to lower and lower cases to upper \n",
    "print(example)                        # The original String is not modified"
   ]
  },
  {
   "cell_type": "markdown",
   "id": "c31c5559",
   "metadata": {},
   "source": [
    "JUSTIFY: center, ljust, rjust"
   ]
  },
  {
   "cell_type": "code",
   "execution_count": 88,
   "id": "a3a14db7",
   "metadata": {},
   "outputs": [
    {
     "name": "stdout",
     "output_type": "stream",
     "text": [
      "         dummy string         \n",
      "dummy string                  \n",
      "                  dummy string\n"
     ]
    }
   ],
   "source": [
    "print(example.center(30))\n",
    "print(example.ljust(30))\n",
    "print(example.rjust(30))"
   ]
  },
  {
   "cell_type": "markdown",
   "id": "ff5b0231",
   "metadata": {},
   "source": [
    "UTILITY: count, [find, rfind], [index, rindex], join, replace, [removeprefix, removesuffix], zfill"
   ]
  },
  {
   "cell_type": "code",
   "execution_count": 89,
   "id": "c355859c",
   "metadata": {},
   "outputs": [
    {
     "name": "stdout",
     "output_type": "stream",
     "text": [
      "2\n",
      "1\n",
      "0\n"
     ]
    }
   ],
   "source": [
    "example = \"Dummy String\"\n",
    "\n",
    "print(example.count(\"m\"))\n",
    "print(example.count(\"Str\"))\n",
    "print(example.count(\"vv\"))"
   ]
  },
  {
   "cell_type": "code",
   "execution_count": 90,
   "id": "ffe5e0c6",
   "metadata": {},
   "outputs": [
    {
     "name": "stdout",
     "output_type": "stream",
     "text": [
      "2\n",
      "3\n",
      "2\n",
      "3\n"
     ]
    }
   ],
   "source": [
    "print(example.find(\"m\"))\n",
    "print(example.rfind(\"m\"))\n",
    "\n",
    "print(example.index(\"m\"))\n",
    "print(example.rindex(\"m\"))"
   ]
  },
  {
   "cell_type": "code",
   "execution_count": 91,
   "id": "266c9d74",
   "metadata": {},
   "outputs": [
    {
     "name": "stdout",
     "output_type": "stream",
     "text": [
      "Yummy String\n"
     ]
    }
   ],
   "source": [
    "print(example.replace(\"D\", \"Y\"))"
   ]
  },
  {
   "cell_type": "code",
   "execution_count": 92,
   "id": "9d2daaa8",
   "metadata": {},
   "outputs": [
    {
     "name": "stdout",
     "output_type": "stream",
     "text": [
      "ummy String\n",
      "Dummy Str\n"
     ]
    }
   ],
   "source": [
    "print(example.removeprefix(\"D\"))\n",
    "print(example.removesuffix(\"ing\"))"
   ]
  },
  {
   "cell_type": "code",
   "execution_count": 93,
   "id": "a885d593",
   "metadata": {},
   "outputs": [
    {
     "name": "stdout",
     "output_type": "stream",
     "text": [
      "00five\n",
      "0five\n",
      "five\n"
     ]
    }
   ],
   "source": [
    "padding = \"five\"\n",
    "print(padding.zfill(6))\n",
    "print(padding.zfill(5))\n",
    "print(padding.zfill(4))"
   ]
  },
  {
   "cell_type": "code",
   "execution_count": 94,
   "id": "4d5fa01c",
   "metadata": {},
   "outputs": [
    {
     "name": "stdout",
     "output_type": "stream",
     "text": [
      "['Example', 'String', 'With Many Elements As Arguments']\n",
      "['Example String With Many Elements', 'As', 'Arguments']\n"
     ]
    }
   ],
   "source": [
    "string = \"Example String With Many Elements As Arguments\"\n",
    "list_1 = string.split(maxsplit=2)\n",
    "print(list_1)\n",
    "list_2 = string.rsplit(maxsplit=2)\n",
    "print(list_2)"
   ]
  },
  {
   "cell_type": "code",
   "execution_count": 95,
   "id": "c48016cf",
   "metadata": {},
   "outputs": [
    {
     "name": "stdout",
     "output_type": "stream",
     "text": [
      "['Apples', 'Bananas', 'Pastry']\n"
     ]
    }
   ],
   "source": [
    "string = \"Apples,Bananas,Pastry\"\n",
    "list_2 = string.split(\",\")\n",
    "print(list_2)"
   ]
  },
  {
   "cell_type": "code",
   "execution_count": 96,
   "id": "523babc0",
   "metadata": {},
   "outputs": [
    {
     "name": "stdout",
     "output_type": "stream",
     "text": [
      "Example-String-With Many Elements As Arguments\n",
      "Apples Bananas Pastry\n"
     ]
    }
   ],
   "source": [
    "print(\"-\".join(list_1))\n",
    "print(\" \".join(list_2))"
   ]
  },
  {
   "cell_type": "markdown",
   "id": "2c79d7c5",
   "metadata": {},
   "source": [
    "CHECKING: isalnum, isalpha, isascii, isdecimal, isdigit, isidentifier, islower, isnumeric, isprintable, isspace, istitle, isupper"
   ]
  },
  {
   "cell_type": "code",
   "execution_count": 97,
   "id": "8fbae3e3",
   "metadata": {},
   "outputs": [
    {
     "name": "stdout",
     "output_type": "stream",
     "text": [
      ".isupper() ->  ALL_UPPER True\n",
      ".isupper() ->  PascalCase False\n",
      ".islower() ->  all_lower True\n",
      ".islower() ->  camelCase False\n",
      ".isspace() ->      True\n",
      ".isspace() ->  all_lower False\n",
      ".isidentifier() ->  var_1 True\n",
      ".isidentifier() ->  var 1 False\n",
      ".isalpha() ->  PascalCase True\n",
      ".isalpha() ->  123 False\n",
      ".isalpha() ->  ALL_UPPER False\n",
      ".isalpha() ->  all_lower False\n",
      ".isalnum() ->  abc123 True\n",
      ".isalnum() ->  123 True\n",
      ".isalnum() ->  var_1 False\n",
      ".isalnum() ->  var 1 False\n",
      ".isdecimal() ->  abc123 False\n",
      ".isdecimal() ->  123 True\n",
      ".isdecimal() ->  12.3 False\n",
      ".isdecimal() ->  var 1 False\n",
      ".isdigit() ->  abc123 False\n",
      ".isdigit() ->  123 True\n",
      ".isdigit() ->  12.3 False\n",
      ".isdigit() ->  var 1 False\n",
      ".isnumeric() ->  abc123 False\n",
      ".isnumeric() ->  123 True\n",
      ".isnumeric() ->  12.3 False\n",
      ".isnumeric() ->  var 1 False\n"
     ]
    }
   ],
   "source": [
    "lower = \"all_lower\"\n",
    "identifier = \"var_1\"\n",
    "non_identifier = \"var 1\"\n",
    "upper = \"ALL_UPPER\"\n",
    "pascal = \"PascalCase\"\n",
    "camel = \"camelCase\"\n",
    "alphabet_number = \"abc123\"\n",
    "number = \"123\"\n",
    "floating = \"12.3\"\n",
    "space = \"   \"\n",
    "\n",
    "\n",
    "print(\".isupper() -> \", upper, upper.isupper())\n",
    "print(\".isupper() -> \", pascal, pascal.isupper())\n",
    "\n",
    "print(\".islower() -> \", lower, lower.islower())\n",
    "print(\".islower() -> \", camel, camel.islower())\n",
    "\n",
    "print(\".isspace() -> \", space, space.isspace())\n",
    "print(\".isspace() -> \", lower, lower.isspace())\n",
    "\n",
    "print(\".isidentifier() -> \", identifier, identifier.isidentifier())\n",
    "print(\".isidentifier() -> \", non_identifier, non_identifier.isidentifier())\n",
    "\n",
    "print(\".isalpha() -> \", pascal, pascal.isalpha())\n",
    "print(\".isalpha() -> \", number, number.isalpha())\n",
    "print(\".isalpha() -> \", upper, upper.isalpha())\n",
    "print(\".isalpha() -> \", lower, lower.isalpha())\n",
    "\n",
    "print(\".isalnum() -> \", alphabet_number, alphabet_number.isalnum())\n",
    "print(\".isalnum() -> \", number, number.isalnum())\n",
    "print(\".isalnum() -> \", identifier, identifier.isalnum())\n",
    "print(\".isalnum() -> \", non_identifier, non_identifier.isalnum())\n",
    "\n",
    "\n",
    "print(\".isdecimal() -> \", alphabet_number, alphabet_number.isdecimal())\n",
    "print(\".isdecimal() -> \", number, number.isdecimal())\n",
    "print(\".isdecimal() -> \", floating, floating.isdecimal())\n",
    "print(\".isdecimal() -> \", non_identifier, non_identifier.isdecimal())\n",
    "\n",
    "print(\".isdigit() -> \", alphabet_number, alphabet_number.isdigit())\n",
    "print(\".isdigit() -> \", number, number.isdigit())\n",
    "print(\".isdigit() -> \", floating, floating.isdigit())\n",
    "print(\".isdigit() -> \", non_identifier, non_identifier.isdigit())\n",
    "\n",
    "print(\".isnumeric() -> \", alphabet_number, alphabet_number.isnumeric())\n",
    "print(\".isnumeric() -> \", number, number.isnumeric())\n",
    "print(\".isnumeric() -> \", floating, floating.isnumeric())\n",
    "print(\".isnumeric() -> \", non_identifier, non_identifier.isnumeric())"
   ]
  },
  {
   "cell_type": "markdown",
   "id": "ae2def92",
   "metadata": {},
   "source": [
    "## Lists"
   ]
  },
  {
   "cell_type": "markdown",
   "id": "ff99c5be",
   "metadata": {},
   "source": [
    "## Indexing and Slicing are Same"
   ]
  },
  {
   "cell_type": "code",
   "execution_count": 98,
   "id": "3894b70a",
   "metadata": {},
   "outputs": [
    {
     "name": "stdout",
     "output_type": "stream",
     "text": [
      "52\n",
      "8\n",
      "[52, 21, 2, 71]\n",
      "[3, 16, 12, 75, 15, 8]\n",
      "[71, 25, 3, 16, 12]\n"
     ]
    }
   ],
   "source": [
    "national_list = [52, 21, 2, 71, 25, 3, 16, 12, 75, 15, 8]\n",
    "\n",
    "print(national_list[0])\n",
    "print(national_list[-1])\n",
    "print(national_list[:4])\n",
    "print(national_list[5:])\n",
    "print(national_list[3:8])"
   ]
  },
  {
   "cell_type": "code",
   "execution_count": 99,
   "id": "6eaf120d",
   "metadata": {},
   "outputs": [
    {
     "data": {
      "text/plain": [
       "11"
      ]
     },
     "execution_count": 99,
     "metadata": {},
     "output_type": "execute_result"
    }
   ],
   "source": [
    "len(national_list)"
   ]
  },
  {
   "cell_type": "markdown",
   "id": "f0374703",
   "metadata": {},
   "source": [
    "### Methods"
   ]
  },
  {
   "cell_type": "code",
   "execution_count": 100,
   "id": "78a89e94",
   "metadata": {},
   "outputs": [
    {
     "name": "stdout",
     "output_type": "stream",
     "text": [
      "[52, 21, 2, 71, 25, 3, 16, 12, 75, 15, 8, 14]\n",
      "[15, 52, 21, 2, 71, 25, 3, 16, 12, 75, 15, 8, 14]\n"
     ]
    }
   ],
   "source": [
    "national_list.append(14)\n",
    "print(national_list)\n",
    "national_list.insert(0, 15)\n",
    "print(national_list)"
   ]
  },
  {
   "cell_type": "code",
   "execution_count": 101,
   "id": "b0c9a118",
   "metadata": {},
   "outputs": [
    {
     "name": "stdout",
     "output_type": "stream",
     "text": [
      "[15, 52, 21, 2, 71, 25, 3, 16, 12, 75, 15, 8, 14, 10, 1]\n"
     ]
    }
   ],
   "source": [
    "shodesh = [10, 1]\n",
    "\n",
    "national_list.extend(shodesh)\n",
    "print(national_list)"
   ]
  },
  {
   "cell_type": "code",
   "execution_count": 102,
   "id": "ff358463",
   "metadata": {},
   "outputs": [
    {
     "name": "stdout",
     "output_type": "stream",
     "text": [
      "[]\n"
     ]
    }
   ],
   "source": [
    "shodesh.clear()\n",
    "print(shodesh)"
   ]
  },
  {
   "cell_type": "code",
   "execution_count": 103,
   "id": "66e3a913",
   "metadata": {},
   "outputs": [],
   "source": [
    "deep_copy = national_list               # Deep Copy \n",
    "shallow_copy = national_list.copy()    # Shallow Copy"
   ]
  },
  {
   "cell_type": "code",
   "execution_count": 104,
   "id": "7fb8bb09",
   "metadata": {},
   "outputs": [
    {
     "name": "stdout",
     "output_type": "stream",
     "text": [
      "[-1500, 52, 21, 2, 71, 25, 3, 16, 12, 75, 15, 8, 14, 10, 1]\n",
      "[-1500, 52, 21, 2, 71, 25, 3, 16, 12, 75, 15, 8, 14, 10, 1]\n"
     ]
    }
   ],
   "source": [
    "deep_copy[0] = -1500                        \n",
    "print(national_list)                                # Chaning the Deep Copy changes the Original\n",
    "print(deep_copy)                                 # Chaning the Deep Copy changes the Original"
   ]
  },
  {
   "cell_type": "code",
   "execution_count": 105,
   "id": "b2c769f6",
   "metadata": {},
   "outputs": [
    {
     "name": "stdout",
     "output_type": "stream",
     "text": [
      "[-1500, 52, 21, 2, 71, 25, 3, 16, 12, 75, 15, 8, 14, 10, 1]\n",
      "[50000, 52, 21, 2, 71, 25, 3, 16, 12, 75, 15, 8, 14, 10, 1]\n"
     ]
    }
   ],
   "source": [
    "shallow_copy[0] = 50000\n",
    "print(national_list)                        # Changing the Shallow Copy does not change the Original\n",
    "print(shallow_copy)                      # Changing the Shallow Copy does not change the Original   "
   ]
  },
  {
   "cell_type": "code",
   "execution_count": 106,
   "id": "970bccb2",
   "metadata": {},
   "outputs": [
    {
     "name": "stdout",
     "output_type": "stream",
     "text": [
      "1\n",
      "0\n",
      "4\n"
     ]
    },
    {
     "ename": "ValueError",
     "evalue": "600 is not in list",
     "output_type": "error",
     "traceback": [
      "\u001b[1;31m---------------------------------------------------------------------------\u001b[0m",
      "\u001b[1;31mValueError\u001b[0m                                Traceback (most recent call last)",
      "Input \u001b[1;32mIn [106]\u001b[0m, in \u001b[0;36m<cell line: 6>\u001b[1;34m()\u001b[0m\n\u001b[0;32m      2\u001b[0m \u001b[38;5;28mprint\u001b[39m(national_list\u001b[38;5;241m.\u001b[39mcount(\u001b[38;5;241m600\u001b[39m))\n\u001b[0;32m      5\u001b[0m \u001b[38;5;28mprint\u001b[39m(national_list\u001b[38;5;241m.\u001b[39mindex(\u001b[38;5;241m71\u001b[39m))\n\u001b[1;32m----> 6\u001b[0m \u001b[38;5;28mprint\u001b[39m(\u001b[43mnational_list\u001b[49m\u001b[38;5;241;43m.\u001b[39;49m\u001b[43mindex\u001b[49m\u001b[43m(\u001b[49m\u001b[38;5;241;43m600\u001b[39;49m\u001b[43m)\u001b[49m)\n",
      "\u001b[1;31mValueError\u001b[0m: 600 is not in list"
     ]
    }
   ],
   "source": [
    "print(national_list.count(10))\n",
    "print(national_list.count(600))\n",
    "\n",
    "\n",
    "print(national_list.index(71))\n",
    "print(national_list.index(600))"
   ]
  },
  {
   "cell_type": "code",
   "execution_count": 107,
   "id": "87cad3b2",
   "metadata": {},
   "outputs": [
    {
     "name": "stdout",
     "output_type": "stream",
     "text": [
      "None\n",
      "None\n",
      "[52, 21, 2, 71, 25, 3, 16, 75, 15, 8, 14, 10, 1]\n"
     ]
    }
   ],
   "source": [
    "print(national_list.remove(-1500))\n",
    "print(national_list.remove(12))\n",
    "\n",
    "print(national_list)"
   ]
  },
  {
   "cell_type": "code",
   "execution_count": 108,
   "id": "d94ba73b",
   "metadata": {},
   "outputs": [
    {
     "name": "stdout",
     "output_type": "stream",
     "text": [
      "1\n",
      "21\n",
      "[52, 2, 71, 25, 3, 16, 75, 15, 8, 14, 10]\n"
     ]
    }
   ],
   "source": [
    "print(national_list.pop())\n",
    "print(national_list.pop(1))\n",
    "\n",
    "print(national_list)"
   ]
  },
  {
   "cell_type": "code",
   "execution_count": 109,
   "id": "e42cc6f7",
   "metadata": {},
   "outputs": [
    {
     "name": "stdout",
     "output_type": "stream",
     "text": [
      "None\n",
      "[10, 14, 8, 15, 75, 16, 3, 25, 71, 2, 52]\n"
     ]
    }
   ],
   "source": [
    "print(national_list.reverse())\n",
    "\n",
    "print(national_list)"
   ]
  },
  {
   "cell_type": "code",
   "execution_count": 110,
   "id": "5fff3184",
   "metadata": {},
   "outputs": [
    {
     "name": "stdout",
     "output_type": "stream",
     "text": [
      "None\n",
      "[2, 3, 8, 10, 14, 15, 16, 25, 52, 71, 75]\n"
     ]
    }
   ],
   "source": [
    "print(national_list.sort())\n",
    "\n",
    "print(national_list)"
   ]
  },
  {
   "cell_type": "code",
   "execution_count": 111,
   "id": "fdafb288",
   "metadata": {},
   "outputs": [
    {
     "name": "stdout",
     "output_type": "stream",
     "text": [
      "[75, 71, 52, 25, 16, 15, 14, 10, 8, 3, 2]\n"
     ]
    }
   ],
   "source": [
    "national_list.sort(reverse=True)\n",
    "\n",
    "print(national_list)"
   ]
  },
  {
   "cell_type": "markdown",
   "id": "abd90515",
   "metadata": {},
   "source": [
    "## Tuples"
   ]
  },
  {
   "cell_type": "code",
   "execution_count": 4,
   "id": "7e549718",
   "metadata": {},
   "outputs": [],
   "source": [
    "national_tuple = (52, 21, 2, 71, 25, 3, 26, 12, 75, 15, 8)"
   ]
  },
  {
   "cell_type": "code",
   "execution_count": 5,
   "id": "eb40373e",
   "metadata": {},
   "outputs": [
    {
     "ename": "TypeError",
     "evalue": "'tuple' object does not support item assignment",
     "output_type": "error",
     "traceback": [
      "\u001b[1;31m---------------------------------------------------------------------------\u001b[0m",
      "\u001b[1;31mTypeError\u001b[0m                                 Traceback (most recent call last)",
      "Input \u001b[1;32mIn [5]\u001b[0m, in \u001b[0;36m<cell line: 1>\u001b[1;34m()\u001b[0m\n\u001b[1;32m----> 1\u001b[0m national_tuple[\u001b[38;5;241m0\u001b[39m] \u001b[38;5;241m=\u001b[39m \u001b[38;5;241m11\u001b[39m\n",
      "\u001b[1;31mTypeError\u001b[0m: 'tuple' object does not support item assignment"
     ]
    }
   ],
   "source": [
    "national_tuple[0] = 11"
   ]
  },
  {
   "cell_type": "code",
   "execution_count": 6,
   "id": "71e82913",
   "metadata": {},
   "outputs": [
    {
     "data": {
      "text/plain": [
       "11"
      ]
     },
     "execution_count": 6,
     "metadata": {},
     "output_type": "execute_result"
    }
   ],
   "source": [
    "len(national_tuple)"
   ]
  },
  {
   "cell_type": "code",
   "execution_count": 7,
   "id": "e4554ba8",
   "metadata": {},
   "outputs": [
    {
     "data": {
      "text/plain": [
       "52"
      ]
     },
     "execution_count": 7,
     "metadata": {},
     "output_type": "execute_result"
    }
   ],
   "source": [
    "national_tuple[0]"
   ]
  },
  {
   "cell_type": "code",
   "execution_count": 8,
   "id": "2a9e6990",
   "metadata": {},
   "outputs": [
    {
     "data": {
      "text/plain": [
       "(25, 26, 75, 8)"
      ]
     },
     "execution_count": 8,
     "metadata": {},
     "output_type": "execute_result"
    }
   ],
   "source": [
    "national_tuple[4::2]"
   ]
  },
  {
   "cell_type": "code",
   "execution_count": 10,
   "id": "4a3838db",
   "metadata": {},
   "outputs": [
    {
     "name": "stdout",
     "output_type": "stream",
     "text": [
      "1\n",
      "6\n"
     ]
    }
   ],
   "source": [
    "print(national_tuple.count(26))\n",
    "print(national_tuple.index(26))"
   ]
  },
  {
   "cell_type": "markdown",
   "id": "94fe2674",
   "metadata": {},
   "source": [
    "Item swapping"
   ]
  },
  {
   "cell_type": "code",
   "execution_count": 11,
   "id": "422e01ab",
   "metadata": {},
   "outputs": [],
   "source": [
    "a, b, c, d = (40, 20, 10, 30)"
   ]
  },
  {
   "cell_type": "code",
   "execution_count": 12,
   "id": "3a0b6d5a",
   "metadata": {},
   "outputs": [
    {
     "name": "stdout",
     "output_type": "stream",
     "text": [
      "10 20 30 40\n"
     ]
    }
   ],
   "source": [
    "a, b, c, d = c, b, d, a\n",
    "\n",
    "print(a, b, c, d)"
   ]
  },
  {
   "cell_type": "markdown",
   "id": "a5ba0272",
   "metadata": {},
   "source": [
    "## Built - in Function"
   ]
  },
  {
   "cell_type": "code",
   "execution_count": 14,
   "id": "36d74b08",
   "metadata": {},
   "outputs": [
    {
     "name": "stdout",
     "output_type": "stream",
     "text": [
      "6\n",
      "6\n",
      "6\n",
      "M\n"
     ]
    }
   ],
   "source": [
    "result = min([43, 21, 6, 8])     # List\n",
    "print(result)\n",
    "result = min(43, 21, 6, 8)       # Raw Numbers\n",
    "print(result)\n",
    "result = min((43, 21, 6, 8))     # Tuple\n",
    "print(result)\n",
    "result = min(\"ManU\")            # String\n",
    "print(result)"
   ]
  },
  {
   "cell_type": "code",
   "execution_count": 15,
   "id": "5fe02299",
   "metadata": {},
   "outputs": [
    {
     "name": "stdout",
     "output_type": "stream",
     "text": [
      "43\n",
      "43\n",
      "43\n",
      "n\n"
     ]
    }
   ],
   "source": [
    "result = max([43, 21, 6, 8])     # List\n",
    "print(result)\n",
    "result = max(43, 21, 6, 8)       # Raw Numbers\n",
    "print(result)\n",
    "result = max((43, 21, 6, 8))     # Tuple\n",
    "print(result)\n",
    "result = max(\"ManU\")            # String\n",
    "print(result)"
   ]
  },
  {
   "cell_type": "code",
   "execution_count": 18,
   "id": "013cdef2",
   "metadata": {},
   "outputs": [
    {
     "name": "stdout",
     "output_type": "stream",
     "text": [
      "78\n",
      "78\n"
     ]
    },
    {
     "ename": "TypeError",
     "evalue": "unsupported operand type(s) for +: 'int' and 'str'",
     "output_type": "error",
     "traceback": [
      "\u001b[1;31m---------------------------------------------------------------------------\u001b[0m",
      "\u001b[1;31mTypeError\u001b[0m                                 Traceback (most recent call last)",
      "Input \u001b[1;32mIn [18]\u001b[0m, in \u001b[0;36m<cell line: 7>\u001b[1;34m()\u001b[0m\n\u001b[0;32m      4\u001b[0m \u001b[38;5;28mprint\u001b[39m(result)\n\u001b[0;32m      5\u001b[0m \u001b[38;5;66;03m# result = sum(43, 21, 6, 8)       # Raw Numbers\u001b[39;00m\n\u001b[0;32m      6\u001b[0m \u001b[38;5;66;03m# print(result)\u001b[39;00m\n\u001b[1;32m----> 7\u001b[0m result \u001b[38;5;241m=\u001b[39m \u001b[38;5;28;43msum\u001b[39;49m\u001b[43m(\u001b[49m\u001b[38;5;124;43m\"\u001b[39;49m\u001b[38;5;124;43mManU\u001b[39;49m\u001b[38;5;124;43m\"\u001b[39;49m\u001b[43m)\u001b[49m            \u001b[38;5;66;03m# String\u001b[39;00m\n\u001b[0;32m      8\u001b[0m \u001b[38;5;28mprint\u001b[39m(result)\n",
      "\u001b[1;31mTypeError\u001b[0m: unsupported operand type(s) for +: 'int' and 'str'"
     ]
    }
   ],
   "source": [
    "result = sum([43, 21, 6, 8])     # List\n",
    "print(result)\n",
    "result = sum((43, 21, 6, 8))     # Tuple\n",
    "print(result)\n",
    "result = sum(43, 21, 6, 8)       # Raw Numbers\n",
    "print(result)\n",
    "result = sum(\"ManU\")            # String\n",
    "print(result)"
   ]
  },
  {
   "cell_type": "code",
   "execution_count": null,
   "id": "49d71c42",
   "metadata": {},
   "outputs": [],
   "source": []
  }
 ],
 "metadata": {
  "kernelspec": {
   "display_name": "Python 3 (ipykernel)",
   "language": "python",
   "name": "python3"
  },
  "language_info": {
   "codemirror_mode": {
    "name": "ipython",
    "version": 3
   },
   "file_extension": ".py",
   "mimetype": "text/x-python",
   "name": "python",
   "nbconvert_exporter": "python",
   "pygments_lexer": "ipython3",
   "version": "3.9.1"
  }
 },
 "nbformat": 4,
 "nbformat_minor": 5
}
